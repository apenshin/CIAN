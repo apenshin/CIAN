{
 "cells": [
  {
   "cell_type": "code",
   "execution_count": 188,
   "metadata": {
    "collapsed": true
   },
   "outputs": [],
   "source": [
    "import pandas as pd\n",
    "import numpy as np \n",
    "from math import sqrt\n",
    "import seaborn as sns\n",
    "import matplotlib.pyplot as plt\n",
    "%matplotlib inline"
   ]
  },
  {
   "cell_type": "code",
   "execution_count": 189,
   "metadata": {
    "collapsed": true
   },
   "outputs": [],
   "source": [
    "#Подавим вывод предупреждений\n",
    "import warnings\n",
    "warnings.filterwarnings('ignore')"
   ]
  },
  {
   "cell_type": "markdown",
   "metadata": {},
   "source": [
    "## Напомню содержательный смысл названий столбцов.\n",
    "\n",
    "* N – номер квартиры по порядку\n",
    "\n",
    "* Rooms – число комнат\n",
    "\n",
    "* Price – цена\n",
    "\n",
    "* Totsp – общая площадь квартиры, кв. м.\n",
    "\n",
    "* Livesp – жилая площадь квартиры, кв. м.\n",
    "\n",
    "* Kitsp – площадь кухни, кв. м.\n",
    "\n",
    "* Dist – расстояние от центра в км. \n",
    "\n",
    "* Metrdist – расстояние до метро в минутах\n",
    "\n",
    "* Walk – 1 – если пешком от метро, 0 – если на транспорте\n",
    "\n",
    "* Brick – 1 – кирпичный/монолит/жб, 0 – другой\n",
    "\n",
    "* Tel – 1 – если есть, 0 – нет\n",
    "\n",
    "* Bal – 1 – есть балкон/лоджия, 0 – нет\n",
    "\n",
    "* Floor – номер этажа, на котором расположена квартира\n",
    "\n",
    "* Nfloors – всего этажей в доме\n",
    "\n",
    "* New – 1 – первичный рынок, 0 - вторичка"
   ]
  },
  {
   "cell_type": "markdown",
   "metadata": {},
   "source": [
    "\n",
    "**Напомню численные обозначения округов Москвы**:\n",
    "* 0 - ЦАО\n",
    "* 1 - САО\n",
    "* 2 - СВАО\n",
    "* 3 - ВАО\n",
    "* 4 - ЮВАО\n",
    "* 5 - ЮАО\n",
    "* 6 - ЮЗАО\n",
    "* 7 - ЗАО\n",
    "* 8 - СЗАО\n",
    "* 9 - НАО\n",
    "* 10 - ТАО"
   ]
  },
  {
   "cell_type": "markdown",
   "metadata": {},
   "source": [
    "### Загрузим полученные данные"
   ]
  },
  {
   "cell_type": "code",
   "execution_count": 190,
   "metadata": {
    "collapsed": true
   },
   "outputs": [],
   "source": [
    "data = pd.read_csv('flats_parsing.csv')"
   ]
  },
  {
   "cell_type": "code",
   "execution_count": 191,
   "metadata": {
    "collapsed": false
   },
   "outputs": [
    {
     "data": {
      "text/html": [
       "<div>\n",
       "<table border=\"1\" class=\"dataframe\">\n",
       "  <thead>\n",
       "    <tr style=\"text-align: right;\">\n",
       "      <th></th>\n",
       "      <th>N</th>\n",
       "      <th>District</th>\n",
       "      <th>Price</th>\n",
       "      <th>Rooms</th>\n",
       "      <th>Totsp</th>\n",
       "      <th>Livesp</th>\n",
       "      <th>Kitsp</th>\n",
       "      <th>Brick</th>\n",
       "      <th>Floor</th>\n",
       "      <th>Nfloors</th>\n",
       "      <th>Dist</th>\n",
       "      <th>Metrdist</th>\n",
       "      <th>Walk</th>\n",
       "      <th>Bal</th>\n",
       "      <th>Tel</th>\n",
       "      <th>New</th>\n",
       "    </tr>\n",
       "  </thead>\n",
       "  <tbody>\n",
       "    <tr>\n",
       "      <th>0</th>\n",
       "      <td>1</td>\n",
       "      <td>0</td>\n",
       "      <td>35584000</td>\n",
       "      <td>2</td>\n",
       "      <td>70.0</td>\n",
       "      <td>43.9</td>\n",
       "      <td>8.0</td>\n",
       "      <td>1</td>\n",
       "      <td>4</td>\n",
       "      <td>6</td>\n",
       "      <td>1.09</td>\n",
       "      <td>5</td>\n",
       "      <td>1</td>\n",
       "      <td>0</td>\n",
       "      <td>-</td>\n",
       "      <td>0</td>\n",
       "    </tr>\n",
       "    <tr>\n",
       "      <th>1</th>\n",
       "      <td>2</td>\n",
       "      <td>0</td>\n",
       "      <td>49000000</td>\n",
       "      <td>3</td>\n",
       "      <td>70.0</td>\n",
       "      <td>40.5</td>\n",
       "      <td>10.0</td>\n",
       "      <td>1</td>\n",
       "      <td>8</td>\n",
       "      <td>9</td>\n",
       "      <td>1.32</td>\n",
       "      <td>7</td>\n",
       "      <td>1</td>\n",
       "      <td>1</td>\n",
       "      <td>-</td>\n",
       "      <td>1</td>\n",
       "    </tr>\n",
       "    <tr>\n",
       "      <th>2</th>\n",
       "      <td>3</td>\n",
       "      <td>0</td>\n",
       "      <td>241316340</td>\n",
       "      <td>5</td>\n",
       "      <td>200.6</td>\n",
       "      <td>-</td>\n",
       "      <td>-</td>\n",
       "      <td>1</td>\n",
       "      <td>3</td>\n",
       "      <td>5</td>\n",
       "      <td>4.57</td>\n",
       "      <td>6</td>\n",
       "      <td>1</td>\n",
       "      <td>0</td>\n",
       "      <td>1</td>\n",
       "      <td>1</td>\n",
       "    </tr>\n",
       "    <tr>\n",
       "      <th>3</th>\n",
       "      <td>4</td>\n",
       "      <td>0</td>\n",
       "      <td>4585315</td>\n",
       "      <td>1</td>\n",
       "      <td>17.3</td>\n",
       "      <td>17.3</td>\n",
       "      <td>-</td>\n",
       "      <td>0</td>\n",
       "      <td>2</td>\n",
       "      <td>-</td>\n",
       "      <td>4.74</td>\n",
       "      <td>6</td>\n",
       "      <td>1</td>\n",
       "      <td>0</td>\n",
       "      <td>-</td>\n",
       "      <td>0</td>\n",
       "    </tr>\n",
       "    <tr>\n",
       "      <th>4</th>\n",
       "      <td>5</td>\n",
       "      <td>0</td>\n",
       "      <td>4814581</td>\n",
       "      <td>1</td>\n",
       "      <td>17.3</td>\n",
       "      <td>17.3</td>\n",
       "      <td>-</td>\n",
       "      <td>1</td>\n",
       "      <td>2</td>\n",
       "      <td>6</td>\n",
       "      <td>4.77</td>\n",
       "      <td>5</td>\n",
       "      <td>1</td>\n",
       "      <td>0</td>\n",
       "      <td>0</td>\n",
       "      <td>1</td>\n",
       "    </tr>\n",
       "  </tbody>\n",
       "</table>\n",
       "</div>"
      ],
      "text/plain": [
       "   N  District      Price Rooms  Totsp Livesp Kitsp  Brick  Floor Nfloors  \\\n",
       "0  1         0   35584000     2   70.0   43.9   8.0      1      4       6   \n",
       "1  2         0   49000000     3   70.0   40.5  10.0      1      8       9   \n",
       "2  3         0  241316340     5  200.6      -     -      1      3       5   \n",
       "3  4         0    4585315     1   17.3   17.3     -      0      2       -   \n",
       "4  5         0    4814581     1   17.3   17.3     -      1      2       6   \n",
       "\n",
       "   Dist Metrdist  Walk  Bal Tel  New  \n",
       "0  1.09        5     1    0   -    0  \n",
       "1  1.32        7     1    1   -    1  \n",
       "2  4.57        6     1    0   1    1  \n",
       "3  4.74        6     1    0   -    0  \n",
       "4  4.77        5     1    0   0    1  "
      ]
     },
     "execution_count": 191,
     "metadata": {},
     "output_type": "execute_result"
    }
   ],
   "source": [
    "data.head()"
   ]
  },
  {
   "cell_type": "code",
   "execution_count": 192,
   "metadata": {
    "collapsed": false
   },
   "outputs": [
    {
     "data": {
      "text/html": [
       "<div>\n",
       "<table border=\"1\" class=\"dataframe\">\n",
       "  <thead>\n",
       "    <tr style=\"text-align: right;\">\n",
       "      <th></th>\n",
       "      <th>N</th>\n",
       "      <th>District</th>\n",
       "      <th>Price</th>\n",
       "      <th>Rooms</th>\n",
       "      <th>Totsp</th>\n",
       "      <th>Livesp</th>\n",
       "      <th>Kitsp</th>\n",
       "      <th>Brick</th>\n",
       "      <th>Floor</th>\n",
       "      <th>Nfloors</th>\n",
       "      <th>Dist</th>\n",
       "      <th>Metrdist</th>\n",
       "      <th>Walk</th>\n",
       "      <th>Bal</th>\n",
       "      <th>Tel</th>\n",
       "      <th>New</th>\n",
       "    </tr>\n",
       "  </thead>\n",
       "  <tbody>\n",
       "    <tr>\n",
       "      <th>8927</th>\n",
       "      <td>8928</td>\n",
       "      <td>10</td>\n",
       "      <td>3600000</td>\n",
       "      <td>1</td>\n",
       "      <td>43.0</td>\n",
       "      <td>16.0</td>\n",
       "      <td>12.0</td>\n",
       "      <td>1</td>\n",
       "      <td>2</td>\n",
       "      <td>4</td>\n",
       "      <td>40.37</td>\n",
       "      <td>-</td>\n",
       "      <td>0</td>\n",
       "      <td>1</td>\n",
       "      <td>0</td>\n",
       "      <td>1</td>\n",
       "    </tr>\n",
       "    <tr>\n",
       "      <th>8928</th>\n",
       "      <td>8929</td>\n",
       "      <td>10</td>\n",
       "      <td>3600000</td>\n",
       "      <td>1</td>\n",
       "      <td>42.0</td>\n",
       "      <td>20.0</td>\n",
       "      <td>10.0</td>\n",
       "      <td>1</td>\n",
       "      <td>7</td>\n",
       "      <td>16</td>\n",
       "      <td>32.67</td>\n",
       "      <td>-</td>\n",
       "      <td>0</td>\n",
       "      <td>1</td>\n",
       "      <td>-</td>\n",
       "      <td>0</td>\n",
       "    </tr>\n",
       "    <tr>\n",
       "      <th>8929</th>\n",
       "      <td>8930</td>\n",
       "      <td>10</td>\n",
       "      <td>3600000</td>\n",
       "      <td>1</td>\n",
       "      <td>42.3</td>\n",
       "      <td>16.0</td>\n",
       "      <td>10.0</td>\n",
       "      <td>1</td>\n",
       "      <td>4</td>\n",
       "      <td>4</td>\n",
       "      <td>40.24</td>\n",
       "      <td>30</td>\n",
       "      <td>0</td>\n",
       "      <td>1</td>\n",
       "      <td>-</td>\n",
       "      <td>1</td>\n",
       "    </tr>\n",
       "    <tr>\n",
       "      <th>8930</th>\n",
       "      <td>8931</td>\n",
       "      <td>10</td>\n",
       "      <td>3600000</td>\n",
       "      <td>3</td>\n",
       "      <td>105.0</td>\n",
       "      <td>55.0</td>\n",
       "      <td>18.0</td>\n",
       "      <td>1</td>\n",
       "      <td>1</td>\n",
       "      <td>6</td>\n",
       "      <td>36.40</td>\n",
       "      <td>-</td>\n",
       "      <td>0</td>\n",
       "      <td>1</td>\n",
       "      <td>0</td>\n",
       "      <td>1</td>\n",
       "    </tr>\n",
       "    <tr>\n",
       "      <th>8931</th>\n",
       "      <td>8932</td>\n",
       "      <td>10</td>\n",
       "      <td>3650000</td>\n",
       "      <td>1</td>\n",
       "      <td>36.0</td>\n",
       "      <td>20.0</td>\n",
       "      <td>10.0</td>\n",
       "      <td>0</td>\n",
       "      <td>2</td>\n",
       "      <td>12</td>\n",
       "      <td>33.99</td>\n",
       "      <td>-</td>\n",
       "      <td>0</td>\n",
       "      <td>0</td>\n",
       "      <td>0</td>\n",
       "      <td>1</td>\n",
       "    </tr>\n",
       "  </tbody>\n",
       "</table>\n",
       "</div>"
      ],
      "text/plain": [
       "         N  District    Price Rooms  Totsp Livesp Kitsp  Brick  Floor Nfloors  \\\n",
       "8927  8928        10  3600000     1   43.0   16.0  12.0      1      2       4   \n",
       "8928  8929        10  3600000     1   42.0   20.0  10.0      1      7      16   \n",
       "8929  8930        10  3600000     1   42.3   16.0  10.0      1      4       4   \n",
       "8930  8931        10  3600000     3  105.0   55.0  18.0      1      1       6   \n",
       "8931  8932        10  3650000     1   36.0   20.0  10.0      0      2      12   \n",
       "\n",
       "       Dist Metrdist  Walk  Bal Tel  New  \n",
       "8927  40.37        -     0    1   0    1  \n",
       "8928  32.67        -     0    1   -    0  \n",
       "8929  40.24       30     0    1   -    1  \n",
       "8930  36.40        -     0    1   0    1  \n",
       "8931  33.99        -     0    0   0    1  "
      ]
     },
     "execution_count": 192,
     "metadata": {},
     "output_type": "execute_result"
    }
   ],
   "source": [
    "data.tail()"
   ]
  },
  {
   "cell_type": "code",
   "execution_count": 193,
   "metadata": {
    "collapsed": false
   },
   "outputs": [
    {
     "data": {
      "text/plain": [
       "8932"
      ]
     },
     "execution_count": 193,
     "metadata": {},
     "output_type": "execute_result"
    }
   ],
   "source": [
    "len(data)"
   ]
  },
  {
   "cell_type": "markdown",
   "metadata": {},
   "source": [
    "**Имеем 8932 квартир по всем округам Москвы.**"
   ]
  },
  {
   "cell_type": "code",
   "execution_count": 194,
   "metadata": {
    "collapsed": false
   },
   "outputs": [
    {
     "data": {
      "text/plain": [
       "N             int64\n",
       "District      int64\n",
       "Price         int64\n",
       "Rooms        object\n",
       "Totsp       float64\n",
       "Livesp       object\n",
       "Kitsp        object\n",
       "Brick         int64\n",
       "Floor         int64\n",
       "Nfloors      object\n",
       "Dist        float64\n",
       "Metrdist     object\n",
       "Walk          int64\n",
       "Bal           int64\n",
       "Tel          object\n",
       "New           int64\n",
       "dtype: object"
      ]
     },
     "execution_count": 194,
     "metadata": {},
     "output_type": "execute_result"
    }
   ],
   "source": [
    "#Типы данных колонок\n",
    "data.dtypes"
   ]
  },
  {
   "cell_type": "markdown",
   "metadata": {},
   "source": [
    "## Исключим из рассмотрения квартиры с пропусками. В этих данных пропуску соответствует '-'."
   ]
  },
  {
   "cell_type": "code",
   "execution_count": 195,
   "metadata": {
    "collapsed": false
   },
   "outputs": [],
   "source": [
    "for col in data.columns:\n",
    "    if '-' in data[col].unique():\n",
    "        data=data.drop(data[data[col] == '-'].index, axis = 0)"
   ]
  },
  {
   "cell_type": "code",
   "execution_count": 196,
   "metadata": {
    "collapsed": false
   },
   "outputs": [
    {
     "data": {
      "text/html": [
       "<div>\n",
       "<table border=\"1\" class=\"dataframe\">\n",
       "  <thead>\n",
       "    <tr style=\"text-align: right;\">\n",
       "      <th></th>\n",
       "      <th>N</th>\n",
       "      <th>District</th>\n",
       "      <th>Price</th>\n",
       "      <th>Rooms</th>\n",
       "      <th>Totsp</th>\n",
       "      <th>Livesp</th>\n",
       "      <th>Kitsp</th>\n",
       "      <th>Brick</th>\n",
       "      <th>Floor</th>\n",
       "      <th>Nfloors</th>\n",
       "      <th>Dist</th>\n",
       "      <th>Metrdist</th>\n",
       "      <th>Walk</th>\n",
       "      <th>Bal</th>\n",
       "      <th>Tel</th>\n",
       "      <th>New</th>\n",
       "    </tr>\n",
       "  </thead>\n",
       "  <tbody>\n",
       "    <tr>\n",
       "      <th>6</th>\n",
       "      <td>7</td>\n",
       "      <td>0</td>\n",
       "      <td>5500000</td>\n",
       "      <td>1</td>\n",
       "      <td>32.0</td>\n",
       "      <td>20.0</td>\n",
       "      <td>7.0</td>\n",
       "      <td>0</td>\n",
       "      <td>1</td>\n",
       "      <td>9</td>\n",
       "      <td>4.88</td>\n",
       "      <td>4</td>\n",
       "      <td>1</td>\n",
       "      <td>0</td>\n",
       "      <td>1</td>\n",
       "      <td>1</td>\n",
       "    </tr>\n",
       "    <tr>\n",
       "      <th>11</th>\n",
       "      <td>12</td>\n",
       "      <td>0</td>\n",
       "      <td>6000000</td>\n",
       "      <td>1</td>\n",
       "      <td>35.1</td>\n",
       "      <td>20.1</td>\n",
       "      <td>9.6</td>\n",
       "      <td>0</td>\n",
       "      <td>12</td>\n",
       "      <td>12</td>\n",
       "      <td>5.12</td>\n",
       "      <td>10</td>\n",
       "      <td>0</td>\n",
       "      <td>1</td>\n",
       "      <td>1</td>\n",
       "      <td>1</td>\n",
       "    </tr>\n",
       "    <tr>\n",
       "      <th>12</th>\n",
       "      <td>13</td>\n",
       "      <td>0</td>\n",
       "      <td>6100000</td>\n",
       "      <td>1</td>\n",
       "      <td>34.0</td>\n",
       "      <td>21.0</td>\n",
       "      <td>8.0</td>\n",
       "      <td>1</td>\n",
       "      <td>2</td>\n",
       "      <td>5</td>\n",
       "      <td>5.96</td>\n",
       "      <td>12</td>\n",
       "      <td>1</td>\n",
       "      <td>1</td>\n",
       "      <td>1</td>\n",
       "      <td>1</td>\n",
       "    </tr>\n",
       "    <tr>\n",
       "      <th>13</th>\n",
       "      <td>14</td>\n",
       "      <td>0</td>\n",
       "      <td>6100000</td>\n",
       "      <td>1</td>\n",
       "      <td>36.0</td>\n",
       "      <td>20.0</td>\n",
       "      <td>10.0</td>\n",
       "      <td>0</td>\n",
       "      <td>12</td>\n",
       "      <td>12</td>\n",
       "      <td>5.12</td>\n",
       "      <td>10</td>\n",
       "      <td>1</td>\n",
       "      <td>1</td>\n",
       "      <td>1</td>\n",
       "      <td>1</td>\n",
       "    </tr>\n",
       "    <tr>\n",
       "      <th>15</th>\n",
       "      <td>16</td>\n",
       "      <td>0</td>\n",
       "      <td>6300000</td>\n",
       "      <td>1</td>\n",
       "      <td>35.0</td>\n",
       "      <td>18.0</td>\n",
       "      <td>8.0</td>\n",
       "      <td>0</td>\n",
       "      <td>1</td>\n",
       "      <td>4</td>\n",
       "      <td>5.95</td>\n",
       "      <td>12</td>\n",
       "      <td>0</td>\n",
       "      <td>0</td>\n",
       "      <td>1</td>\n",
       "      <td>1</td>\n",
       "    </tr>\n",
       "  </tbody>\n",
       "</table>\n",
       "</div>"
      ],
      "text/plain": [
       "     N  District    Price Rooms  Totsp Livesp Kitsp  Brick  Floor Nfloors  \\\n",
       "6    7         0  5500000     1   32.0   20.0   7.0      0      1       9   \n",
       "11  12         0  6000000     1   35.1   20.1   9.6      0     12      12   \n",
       "12  13         0  6100000     1   34.0   21.0   8.0      1      2       5   \n",
       "13  14         0  6100000     1   36.0   20.0  10.0      0     12      12   \n",
       "15  16         0  6300000     1   35.0   18.0   8.0      0      1       4   \n",
       "\n",
       "    Dist Metrdist  Walk  Bal Tel  New  \n",
       "6   4.88        4     1    0   1    1  \n",
       "11  5.12       10     0    1   1    1  \n",
       "12  5.96       12     1    1   1    1  \n",
       "13  5.12       10     1    1   1    1  \n",
       "15  5.95       12     0    0   1    1  "
      ]
     },
     "execution_count": 196,
     "metadata": {},
     "output_type": "execute_result"
    }
   ],
   "source": [
    "data.head()"
   ]
  },
  {
   "cell_type": "code",
   "execution_count": 197,
   "metadata": {
    "collapsed": false
   },
   "outputs": [
    {
     "data": {
      "text/html": [
       "<div>\n",
       "<table border=\"1\" class=\"dataframe\">\n",
       "  <thead>\n",
       "    <tr style=\"text-align: right;\">\n",
       "      <th></th>\n",
       "      <th>N</th>\n",
       "      <th>District</th>\n",
       "      <th>Price</th>\n",
       "      <th>Rooms</th>\n",
       "      <th>Totsp</th>\n",
       "      <th>Livesp</th>\n",
       "      <th>Kitsp</th>\n",
       "      <th>Brick</th>\n",
       "      <th>Floor</th>\n",
       "      <th>Nfloors</th>\n",
       "      <th>Dist</th>\n",
       "      <th>Metrdist</th>\n",
       "      <th>Walk</th>\n",
       "      <th>Bal</th>\n",
       "      <th>Tel</th>\n",
       "      <th>New</th>\n",
       "    </tr>\n",
       "  </thead>\n",
       "  <tbody>\n",
       "    <tr>\n",
       "      <th>8871</th>\n",
       "      <td>8872</td>\n",
       "      <td>10</td>\n",
       "      <td>74000000</td>\n",
       "      <td>3</td>\n",
       "      <td>236.0</td>\n",
       "      <td>120.0</td>\n",
       "      <td>45.0</td>\n",
       "      <td>1</td>\n",
       "      <td>5</td>\n",
       "      <td>6</td>\n",
       "      <td>34.20</td>\n",
       "      <td>15</td>\n",
       "      <td>1</td>\n",
       "      <td>1</td>\n",
       "      <td>0</td>\n",
       "      <td>1</td>\n",
       "    </tr>\n",
       "    <tr>\n",
       "      <th>8877</th>\n",
       "      <td>8878</td>\n",
       "      <td>10</td>\n",
       "      <td>2600000</td>\n",
       "      <td>2</td>\n",
       "      <td>54.0</td>\n",
       "      <td>32.0</td>\n",
       "      <td>10.0</td>\n",
       "      <td>1</td>\n",
       "      <td>2</td>\n",
       "      <td>4</td>\n",
       "      <td>66.66</td>\n",
       "      <td>40</td>\n",
       "      <td>0</td>\n",
       "      <td>1</td>\n",
       "      <td>0</td>\n",
       "      <td>1</td>\n",
       "    </tr>\n",
       "    <tr>\n",
       "      <th>8905</th>\n",
       "      <td>8906</td>\n",
       "      <td>10</td>\n",
       "      <td>2600000</td>\n",
       "      <td>2</td>\n",
       "      <td>51.1</td>\n",
       "      <td>36.0</td>\n",
       "      <td>15.0</td>\n",
       "      <td>1</td>\n",
       "      <td>3</td>\n",
       "      <td>3</td>\n",
       "      <td>39.46</td>\n",
       "      <td>50</td>\n",
       "      <td>0</td>\n",
       "      <td>0</td>\n",
       "      <td>0</td>\n",
       "      <td>1</td>\n",
       "    </tr>\n",
       "    <tr>\n",
       "      <th>8911</th>\n",
       "      <td>8912</td>\n",
       "      <td>10</td>\n",
       "      <td>3200000</td>\n",
       "      <td>1</td>\n",
       "      <td>53.0</td>\n",
       "      <td>18.0</td>\n",
       "      <td>16.0</td>\n",
       "      <td>0</td>\n",
       "      <td>4</td>\n",
       "      <td>17</td>\n",
       "      <td>72.39</td>\n",
       "      <td>25</td>\n",
       "      <td>0</td>\n",
       "      <td>1</td>\n",
       "      <td>0</td>\n",
       "      <td>1</td>\n",
       "    </tr>\n",
       "    <tr>\n",
       "      <th>8923</th>\n",
       "      <td>8924</td>\n",
       "      <td>10</td>\n",
       "      <td>3500000</td>\n",
       "      <td>1</td>\n",
       "      <td>42.3</td>\n",
       "      <td>16.0</td>\n",
       "      <td>10.0</td>\n",
       "      <td>1</td>\n",
       "      <td>1</td>\n",
       "      <td>4</td>\n",
       "      <td>40.18</td>\n",
       "      <td>20</td>\n",
       "      <td>0</td>\n",
       "      <td>1</td>\n",
       "      <td>0</td>\n",
       "      <td>1</td>\n",
       "    </tr>\n",
       "  </tbody>\n",
       "</table>\n",
       "</div>"
      ],
      "text/plain": [
       "         N  District     Price Rooms  Totsp Livesp Kitsp  Brick  Floor  \\\n",
       "8871  8872        10  74000000     3  236.0  120.0  45.0      1      5   \n",
       "8877  8878        10   2600000     2   54.0   32.0  10.0      1      2   \n",
       "8905  8906        10   2600000     2   51.1   36.0  15.0      1      3   \n",
       "8911  8912        10   3200000     1   53.0   18.0  16.0      0      4   \n",
       "8923  8924        10   3500000     1   42.3   16.0  10.0      1      1   \n",
       "\n",
       "     Nfloors   Dist Metrdist  Walk  Bal Tel  New  \n",
       "8871       6  34.20       15     1    1   0    1  \n",
       "8877       4  66.66       40     0    1   0    1  \n",
       "8905       3  39.46       50     0    0   0    1  \n",
       "8911      17  72.39       25     0    1   0    1  \n",
       "8923       4  40.18       20     0    1   0    1  "
      ]
     },
     "execution_count": 197,
     "metadata": {},
     "output_type": "execute_result"
    }
   ],
   "source": [
    "data.tail()"
   ]
  },
  {
   "cell_type": "code",
   "execution_count": 198,
   "metadata": {
    "collapsed": false
   },
   "outputs": [
    {
     "name": "stdout",
     "output_type": "stream",
     "text": [
      "0\n"
     ]
    }
   ],
   "source": [
    "# Убедимся, что удалены квартиры с пропусками\n",
    "counter = 0\n",
    "for col in data.columns:\n",
    "    if '-' in data[col].unique():\n",
    "        counter+=1\n",
    "print(counter)"
   ]
  },
  {
   "cell_type": "markdown",
   "metadata": {},
   "source": [
    "## Хорошо. В данных нет теперь пропусков. "
   ]
  },
  {
   "cell_type": "markdown",
   "metadata": {},
   "source": [
    "### Число квартир после очистки от пропусков:"
   ]
  },
  {
   "cell_type": "code",
   "execution_count": 199,
   "metadata": {
    "collapsed": false
   },
   "outputs": [
    {
     "data": {
      "text/plain": [
       "3661"
      ]
     },
     "execution_count": 199,
     "metadata": {},
     "output_type": "execute_result"
    }
   ],
   "source": [
    "len(data)"
   ]
  },
  {
   "cell_type": "code",
   "execution_count": 200,
   "metadata": {
    "collapsed": false
   },
   "outputs": [
    {
     "data": {
      "text/plain": [
       "N             int64\n",
       "District      int64\n",
       "Price         int64\n",
       "Rooms        object\n",
       "Totsp       float64\n",
       "Livesp       object\n",
       "Kitsp        object\n",
       "Brick         int64\n",
       "Floor         int64\n",
       "Nfloors      object\n",
       "Dist        float64\n",
       "Metrdist     object\n",
       "Walk          int64\n",
       "Bal           int64\n",
       "Tel          object\n",
       "New           int64\n",
       "dtype: object"
      ]
     },
     "execution_count": 200,
     "metadata": {},
     "output_type": "execute_result"
    }
   ],
   "source": [
    "data.dtypes"
   ]
  },
  {
   "cell_type": "code",
   "execution_count": 201,
   "metadata": {
    "collapsed": false
   },
   "outputs": [],
   "source": [
    "#Преобразуем столбцы с типом object во float\n",
    "data['Rooms'] = data['Rooms'].astype(str).astype(float)\n",
    "data['Livesp'] = data['Livesp'].astype(str).astype(float)\n",
    "data['Kitsp'] = data['Kitsp'].astype(str).astype(float)\n",
    "data['Nfloors'] = data['Nfloors'].astype(str).astype(float)\n",
    "data['Metrdist'] = data['Metrdist'].astype(str).astype(float)\n",
    "data['Tel'] = data['Tel'].astype(str).astype(int)"
   ]
  },
  {
   "cell_type": "code",
   "execution_count": 202,
   "metadata": {
    "collapsed": false
   },
   "outputs": [
    {
     "data": {
      "text/plain": [
       "N             int64\n",
       "District      int64\n",
       "Price         int64\n",
       "Rooms       float64\n",
       "Totsp       float64\n",
       "Livesp      float64\n",
       "Kitsp       float64\n",
       "Brick         int64\n",
       "Floor         int64\n",
       "Nfloors     float64\n",
       "Dist        float64\n",
       "Metrdist    float64\n",
       "Walk          int64\n",
       "Bal           int64\n",
       "Tel           int64\n",
       "New           int64\n",
       "dtype: object"
      ]
     },
     "execution_count": 202,
     "metadata": {},
     "output_type": "execute_result"
    }
   ],
   "source": [
    "data.dtypes"
   ]
  },
  {
   "cell_type": "code",
   "execution_count": 203,
   "metadata": {
    "collapsed": false
   },
   "outputs": [
    {
     "name": "stdout",
     "output_type": "stream",
     "text": [
      "N: 3661\n",
      "District: 11\n",
      "Price: 651\n",
      "Rooms: 5\n",
      "Totsp: 546\n",
      "Livesp: 391\n",
      "Kitsp: 135\n",
      "Brick: 2\n",
      "Floor: 36\n",
      "Nfloors: 45\n",
      "Dist: 1749\n",
      "Metrdist: 52\n",
      "Walk: 2\n",
      "Bal: 2\n",
      "Tel: 2\n",
      "New: 1\n"
     ]
    }
   ],
   "source": [
    "def num_cat(data):\n",
    "    for name in data.columns:\n",
    "        print(str(name) + ':' + ' ' + str(data[name].nunique()))\n",
    "#Количество уникальных значений в столбцах \n",
    "num_cat(data)"
   ]
  },
  {
   "cell_type": "markdown",
   "metadata": {},
   "source": [
    "### Удивительно то, что после очистки от пропусков, остались только квартиры-первички."
   ]
  },
  {
   "cell_type": "markdown",
   "metadata": {},
   "source": [
    "# Подсчитаем основные статистики."
   ]
  },
  {
   "cell_type": "code",
   "execution_count": 204,
   "metadata": {
    "collapsed": false
   },
   "outputs": [
    {
     "data": {
      "text/html": [
       "<div>\n",
       "<table border=\"1\" class=\"dataframe\">\n",
       "  <thead>\n",
       "    <tr style=\"text-align: right;\">\n",
       "      <th></th>\n",
       "      <th>Price</th>\n",
       "      <th>Rooms</th>\n",
       "      <th>Totsp</th>\n",
       "      <th>Livesp</th>\n",
       "      <th>Kitsp</th>\n",
       "      <th>Floor</th>\n",
       "      <th>Nfloors</th>\n",
       "      <th>Dist</th>\n",
       "      <th>Metrdist</th>\n",
       "    </tr>\n",
       "  </thead>\n",
       "  <tbody>\n",
       "    <tr>\n",
       "      <th>count</th>\n",
       "      <td>3.661000e+03</td>\n",
       "      <td>3661.000000</td>\n",
       "      <td>3661.000000</td>\n",
       "      <td>3661.000000</td>\n",
       "      <td>3661.000000</td>\n",
       "      <td>3661.000000</td>\n",
       "      <td>3661.000000</td>\n",
       "      <td>3661.000000</td>\n",
       "      <td>3661.000000</td>\n",
       "    </tr>\n",
       "    <tr>\n",
       "      <th>mean</th>\n",
       "      <td>9.592331e+06</td>\n",
       "      <td>1.852226</td>\n",
       "      <td>51.066457</td>\n",
       "      <td>30.618601</td>\n",
       "      <td>8.762141</td>\n",
       "      <td>6.283256</td>\n",
       "      <td>11.875171</td>\n",
       "      <td>14.060186</td>\n",
       "      <td>11.980060</td>\n",
       "    </tr>\n",
       "    <tr>\n",
       "      <th>std</th>\n",
       "      <td>1.131348e+07</td>\n",
       "      <td>0.811639</td>\n",
       "      <td>22.974122</td>\n",
       "      <td>15.403934</td>\n",
       "      <td>3.606497</td>\n",
       "      <td>5.124762</td>\n",
       "      <td>6.532181</td>\n",
       "      <td>9.335304</td>\n",
       "      <td>9.292184</td>\n",
       "    </tr>\n",
       "    <tr>\n",
       "      <th>min</th>\n",
       "      <td>1.399444e+06</td>\n",
       "      <td>1.000000</td>\n",
       "      <td>13.000000</td>\n",
       "      <td>9.000000</td>\n",
       "      <td>1.000000</td>\n",
       "      <td>1.000000</td>\n",
       "      <td>1.000000</td>\n",
       "      <td>0.180000</td>\n",
       "      <td>1.000000</td>\n",
       "    </tr>\n",
       "    <tr>\n",
       "      <th>25%</th>\n",
       "      <td>5.900000e+06</td>\n",
       "      <td>1.000000</td>\n",
       "      <td>38.000000</td>\n",
       "      <td>20.000000</td>\n",
       "      <td>6.000000</td>\n",
       "      <td>3.000000</td>\n",
       "      <td>8.000000</td>\n",
       "      <td>8.070000</td>\n",
       "      <td>7.000000</td>\n",
       "    </tr>\n",
       "    <tr>\n",
       "      <th>50%</th>\n",
       "      <td>7.400000e+06</td>\n",
       "      <td>2.000000</td>\n",
       "      <td>45.000000</td>\n",
       "      <td>28.900000</td>\n",
       "      <td>8.000000</td>\n",
       "      <td>5.000000</td>\n",
       "      <td>12.000000</td>\n",
       "      <td>12.310000</td>\n",
       "      <td>10.000000</td>\n",
       "    </tr>\n",
       "    <tr>\n",
       "      <th>75%</th>\n",
       "      <td>9.750000e+06</td>\n",
       "      <td>2.000000</td>\n",
       "      <td>57.000000</td>\n",
       "      <td>35.000000</td>\n",
       "      <td>10.000000</td>\n",
       "      <td>9.000000</td>\n",
       "      <td>16.000000</td>\n",
       "      <td>17.560000</td>\n",
       "      <td>15.000000</td>\n",
       "    </tr>\n",
       "    <tr>\n",
       "      <th>max</th>\n",
       "      <td>3.900000e+08</td>\n",
       "      <td>5.000000</td>\n",
       "      <td>537.000000</td>\n",
       "      <td>333.000000</td>\n",
       "      <td>55.000000</td>\n",
       "      <td>51.000000</td>\n",
       "      <td>62.000000</td>\n",
       "      <td>72.510000</td>\n",
       "      <td>210.000000</td>\n",
       "    </tr>\n",
       "  </tbody>\n",
       "</table>\n",
       "</div>"
      ],
      "text/plain": [
       "              Price        Rooms        Totsp       Livesp        Kitsp  \\\n",
       "count  3.661000e+03  3661.000000  3661.000000  3661.000000  3661.000000   \n",
       "mean   9.592331e+06     1.852226    51.066457    30.618601     8.762141   \n",
       "std    1.131348e+07     0.811639    22.974122    15.403934     3.606497   \n",
       "min    1.399444e+06     1.000000    13.000000     9.000000     1.000000   \n",
       "25%    5.900000e+06     1.000000    38.000000    20.000000     6.000000   \n",
       "50%    7.400000e+06     2.000000    45.000000    28.900000     8.000000   \n",
       "75%    9.750000e+06     2.000000    57.000000    35.000000    10.000000   \n",
       "max    3.900000e+08     5.000000   537.000000   333.000000    55.000000   \n",
       "\n",
       "             Floor      Nfloors         Dist     Metrdist  \n",
       "count  3661.000000  3661.000000  3661.000000  3661.000000  \n",
       "mean      6.283256    11.875171    14.060186    11.980060  \n",
       "std       5.124762     6.532181     9.335304     9.292184  \n",
       "min       1.000000     1.000000     0.180000     1.000000  \n",
       "25%       3.000000     8.000000     8.070000     7.000000  \n",
       "50%       5.000000    12.000000    12.310000    10.000000  \n",
       "75%       9.000000    16.000000    17.560000    15.000000  \n",
       "max      51.000000    62.000000    72.510000   210.000000  "
      ]
     },
     "execution_count": 204,
     "metadata": {},
     "output_type": "execute_result"
    }
   ],
   "source": [
    "data.drop(['N','District','Brick','Walk','Bal','Tel','New'],axis=1).describe()"
   ]
  },
  {
   "cell_type": "markdown",
   "metadata": {},
   "source": [
    "# Корреляционная карта"
   ]
  },
  {
   "cell_type": "code",
   "execution_count": 205,
   "metadata": {
    "collapsed": false
   },
   "outputs": [
    {
     "data": {
      "text/plain": [
       "<matplotlib.axes._subplots.AxesSubplot at 0x7f2a7152c0f0>"
      ]
     },
     "execution_count": 205,
     "metadata": {},
     "output_type": "execute_result"
    },
    {
     "data": {
      "image/png": "[encoded data removed]",
      "text/plain": [
       "<matplotlib.figure.Figure at 0x7f2a71d46e48>"
      ]
     },
     "metadata": {},
     "output_type": "display_data"
    }
   ],
   "source": [
    "corr = abs(data.drop(['N','New'],1).corr())\n",
    "sns.heatmap(corr, \n",
    "            xticklabels=corr.columns.values,\n",
    "            yticklabels=corr.columns.values, annot=False, cmap='YlGnBu')"
   ]
  },
  {
   "cell_type": "markdown",
   "metadata": {},
   "source": [
    "# Выборочое распределение значений признаков. \n"
   ]
  },
  {
   "cell_type": "code",
   "execution_count": 206,
   "metadata": {
    "collapsed": false
   },
   "outputs": [
    {
     "data": {
      "text/plain": [
       "<matplotlib.axes._subplots.AxesSubplot at 0x7f2a71d35588>"
      ]
     },
     "execution_count": 206,
     "metadata": {},
     "output_type": "execute_result"
    },
    {
     "data": {
      "image/png": "[encoded data removed]",
      "text/plain": [
       "<matplotlib.figure.Figure at 0x7f2a71d35dd8>"
      ]
     },
     "metadata": {},
     "output_type": "display_data"
    }
   ],
   "source": [
    "plt.figure()\n",
    "plt.title(\"District\")\n",
    "data[\"District\"].hist()"
   ]
  },
  {
   "cell_type": "markdown",
   "metadata": {},
   "source": [
    "### Количество квартир по районам распределено более менее равномерно."
   ]
  },
  {
   "cell_type": "code",
   "execution_count": 207,
   "metadata": {
    "collapsed": false
   },
   "outputs": [
    {
     "data": {
      "text/plain": [
       "<matplotlib.axes._subplots.AxesSubplot at 0x7f2a71bf9cc0>"
      ]
     },
     "execution_count": 207,
     "metadata": {},
     "output_type": "execute_result"
    },
    {
     "data": {
      "image/png": "[encoded data removed]",
      "text/plain": [
       "<matplotlib.figure.Figure at 0x7f2a71bf99b0>"
      ]
     },
     "metadata": {},
     "output_type": "display_data"
    }
   ],
   "source": [
    "plt.figure()\n",
    "plt.title(\"Rooms\")\n",
    "data[\"Rooms\"].hist()"
   ]
  },
  {
   "cell_type": "markdown",
   "metadata": {},
   "source": [
    "### Большинство квартир выставленных на продажу являются 1- и 2-комнатными."
   ]
  },
  {
   "cell_type": "code",
   "execution_count": 208,
   "metadata": {
    "collapsed": false
   },
   "outputs": [
    {
     "data": {
      "text/plain": [
       "<matplotlib.axes._subplots.AxesSubplot at 0x7f2a71b85be0>"
      ]
     },
     "execution_count": 208,
     "metadata": {},
     "output_type": "execute_result"
    },
    {
     "data": {
      "image/png": "[encoded data removed]",
      "text/plain": [
       "<matplotlib.figure.Figure at 0x7f2a71b85cc0>"
      ]
     },
     "metadata": {},
     "output_type": "display_data"
    }
   ],
   "source": [
    "plt.figure()\n",
    "plt.title(\"Totsp\")\n",
    "data[\"Totsp\"].hist(bins=20)"
   ]
  },
  {
   "cell_type": "markdown",
   "metadata": {},
   "source": [
    "### Общая площадь большинства квартир, выставленных на продажу, в основном не превосходит 100 кв. м. "
   ]
  },
  {
   "cell_type": "code",
   "execution_count": 209,
   "metadata": {
    "collapsed": false
   },
   "outputs": [
    {
     "data": {
      "text/plain": [
       "<matplotlib.axes._subplots.AxesSubplot at 0x7f2a71aad3c8>"
      ]
     },
     "execution_count": 209,
     "metadata": {},
     "output_type": "execute_result"
    },
    {
     "data": {
      "image/png": "[encoded data removed]",
      "text/plain": [
       "<matplotlib.figure.Figure at 0x7f2a71aad2b0>"
      ]
     },
     "metadata": {},
     "output_type": "display_data"
    }
   ],
   "source": [
    "plt.figure()\n",
    "plt.title(\"Dist\")\n",
    "data[\"Dist\"].hist()"
   ]
  },
  {
   "cell_type": "markdown",
   "metadata": {},
   "source": [
    "## Зависимость цены квартиры от её общей площади."
   ]
  },
  {
   "cell_type": "code",
   "execution_count": 210,
   "metadata": {
    "collapsed": false
   },
   "outputs": [
    {
     "data": {
      "text/plain": [
       "(0, 400000000.0)"
      ]
     },
     "execution_count": 210,
     "metadata": {},
     "output_type": "execute_result"
    },
    {
     "data": {
      "image/png": "[encoded data removed]",
      "text/plain": [
       "<matplotlib.figure.Figure at 0x7f2a71a32358>"
      ]
     },
     "metadata": {},
     "output_type": "display_data"
    }
   ],
   "source": [
    "lm=sns.lmplot(x='Totsp',y='Price', hue='District', data=data, legend=True, fit_reg=False, scatter_kws={\"s\": 50})\n",
    "lm.axes[0,0].set_xlim(0,550)\n",
    "lm.axes[0,0].set_ylim(0,4e8)"
   ]
  },
  {
   "cell_type": "markdown",
   "metadata": {},
   "source": [
    "### Очень дорогая квартира за 390 млн. руб. общей площадью 537 кв. м.  находится в ЗАО. \n",
    "\n",
    "### Квартиры за более чем 100 млн. руб. находятся в ЦАО и САО.\n",
    "\n",
    "### В НАО и ТАО квартиры в основном до 2 млн. руб."
   ]
  },
  {
   "cell_type": "markdown",
   "metadata": {},
   "source": [
    "# Зависимость цены квартиры от её расстояния до центра."
   ]
  },
  {
   "cell_type": "code",
   "execution_count": 211,
   "metadata": {
    "collapsed": false
   },
   "outputs": [
    {
     "data": {
      "text/plain": [
       "(0, 400000000.0)"
      ]
     },
     "execution_count": 211,
     "metadata": {},
     "output_type": "execute_result"
    },
    {
     "data": {
      "image/png": "[encoded data removed]",
      "text/plain": [
       "<matplotlib.figure.Figure at 0x7f2a71d3c908>"
      ]
     },
     "metadata": {},
     "output_type": "display_data"
    }
   ],
   "source": [
    "lm=sns.lmplot(x='Dist',y='Price', hue='District', data=data, legend=True, fit_reg=False, scatter_kws={\"s\": 50})\n",
    "lm.axes[0,0].set_xlim(0,80)\n",
    "lm.axes[0,0].set_ylim(0,4e8)"
   ]
  },
  {
   "cell_type": "markdown",
   "metadata": {},
   "source": [
    "# *Построение моделей.*"
   ]
  },
  {
   "cell_type": "markdown",
   "metadata": {},
   "source": [
    "### В качестве целевой переменной будет выступать цена на квартиру - price."
   ]
  },
  {
   "cell_type": "markdown",
   "metadata": {},
   "source": [
    "## Метрика качества модели.\n",
    "## root-mean-square error (RMSE):"
   ]
  },
  {
   "cell_type": "code",
   "execution_count": 212,
   "metadata": {
    "collapsed": true
   },
   "outputs": [],
   "source": [
    "def RMSE(x1,x2):\n",
    "    return sqrt(mean_squared_error(x1,x2))"
   ]
  },
  {
   "cell_type": "code",
   "execution_count": 213,
   "metadata": {
    "collapsed": true
   },
   "outputs": [],
   "source": [
    "#Обучающая выборка\n",
    "X = data.drop(['N','Price'],1).values\n",
    "y = data['Price'].values"
   ]
  },
  {
   "cell_type": "markdown",
   "metadata": {
    "collapsed": true
   },
   "source": [
    "# Линейная регрессия."
   ]
  },
  {
   "cell_type": "code",
   "execution_count": 214,
   "metadata": {
    "collapsed": false
   },
   "outputs": [],
   "source": [
    "from sklearn.linear_model import LinearRegression\n",
    "from sklearn.model_selection import KFold, cross_val_score\n",
    "from sklearn.metrics import make_scorer, mean_squared_error"
   ]
  },
  {
   "cell_type": "code",
   "execution_count": 215,
   "metadata": {
    "collapsed": false
   },
   "outputs": [],
   "source": [
    "lin_reg = LinearRegression(normalize = True, n_jobs=-1)"
   ]
  },
  {
   "cell_type": "code",
   "execution_count": 216,
   "metadata": {
    "collapsed": false
   },
   "outputs": [
    {
     "name": "stdout",
     "output_type": "stream",
     "text": [
      "-6382072.0909\n"
     ]
    }
   ],
   "source": [
    "#Качество линейной регрессии на кросс-валидации по пяти блокам\n",
    "scores = cross_val_score(lin_reg, X, y, scoring = make_scorer(score_func = RMSE, greater_is_better=False), cv = 5 )\n",
    "print(np.mean(scores))"
   ]
  },
  {
   "cell_type": "markdown",
   "metadata": {
    "collapsed": true
   },
   "source": [
    "# Гребневая регрессия."
   ]
  },
  {
   "cell_type": "code",
   "execution_count": 217,
   "metadata": {
    "collapsed": true
   },
   "outputs": [],
   "source": [
    "from sklearn.linear_model import Ridge"
   ]
  },
  {
   "cell_type": "code",
   "execution_count": 218,
   "metadata": {
    "collapsed": false
   },
   "outputs": [],
   "source": [
    "#найдём значение пар-ра alpha из диапазона 1 -- 500, при котором RMSE нашей модели будет наименьшим\n",
    "ridge_reg = Ridge(alpha=0, normalize=True)\n",
    "scores = cross_val_score(ridge_reg, X, y, scoring = make_scorer(score_func = RMSE, greater_is_better=False), cv = 5 )\n",
    "best_score = abs(np.mean(scores))\n",
    "best_alpha = 0\n",
    "for alpha in range(1,5000): \n",
    "    #качество гребневой регрессии на кросс-валидации по пяти блокам\n",
    "    ridge_reg = Ridge(alpha=alpha, normalize=True)\n",
    "    scores = cross_val_score(ridge_reg, X, y, scoring = make_scorer(score_func = RMSE, greater_is_better=False), cv = 5 )\n",
    "    if abs(np.mean(scores)) < best_score:\n",
    "        best_score = abs(np.mean(scores))\n",
    "        best_alpha = alpha"
   ]
  },
  {
   "cell_type": "code",
   "execution_count": 219,
   "metadata": {
    "collapsed": false
   },
   "outputs": [
    {
     "data": {
      "text/plain": [
       "6382072.0908958828"
      ]
     },
     "execution_count": 219,
     "metadata": {},
     "output_type": "execute_result"
    }
   ],
   "source": [
    "best_score"
   ]
  },
  {
   "cell_type": "markdown",
   "metadata": {},
   "source": [
    "# Случайный лес."
   ]
  },
  {
   "cell_type": "code",
   "execution_count": 146,
   "metadata": {
    "collapsed": true
   },
   "outputs": [],
   "source": [
    "from sklearn.ensemble import RandomForestRegressor"
   ]
  },
  {
   "cell_type": "markdown",
   "metadata": {},
   "source": [
    "### Жадный поиск параметров модели:"
   ]
  },
  {
   "cell_type": "code",
   "execution_count": 149,
   "metadata": {
    "collapsed": false
   },
   "outputs": [],
   "source": [
    "RF = RandomForestRegressor(n_estimators=1000, criterion='mse', max_depth=None, min_samples_split=2, min_samples_leaf=1, min_weight_fraction_leaf=0.0, max_features=5, max_leaf_nodes=None, min_impurity_split=1e-07, bootstrap=True, oob_score=False, n_jobs=-1, random_state=241, verbose=0, warm_start=False)\n",
    "\n",
    "scores = cross_val_score(RF, X, y, scoring = make_scorer(score_func = RMSE, greater_is_better=False), cv = 3 )\n",
    "\n",
    "best_score = abs(np.mean(scores))\n",
    "\n",
    "best_max_features = 5 #буду варьировать от 5 до 14\n",
    "best_min_samples_split = 2 #буду варьировать от 2 до 10\n",
    "best_min_samples_leaf=1  #буду варьировать от 1 до 5\n",
    "\n",
    "for max_features in range(5,15):\n",
    "    for min_samples_split in range(2,11):\n",
    "        for min_samples_leaf in range(1,6):\n",
    "            RF = RandomForestRegressor(n_estimators=1000,\n",
    "                                       min_samples_split=min_samples_split, \n",
    "                                       min_samples_leaf=min_samples_leaf,\n",
    "                                       max_features=max_features,\n",
    "                                       n_jobs=-1,\n",
    "                                       random_state=241)\n",
    "            #качество случайного леса на кросс-валидации по пяти блокам\n",
    "            scores = cross_val_score(RF, X, y, scoring = make_scorer(score_func = RMSE, greater_is_better=False), cv = 3)\n",
    "            if abs(np.mean(scores)) < best_score:\n",
    "                best_max_features = max_features\n",
    "                best_min_samples_split = min_samples_split\n",
    "                best_min_samples_leaf = min_samples_leaf\n",
    "\n",
    "            "
   ]
  },
  {
   "cell_type": "code",
   "execution_count": 150,
   "metadata": {
    "collapsed": false
   },
   "outputs": [
    {
     "data": {
      "text/plain": [
       "7381896.0934373178"
      ]
     },
     "execution_count": 150,
     "metadata": {},
     "output_type": "execute_result"
    }
   ],
   "source": [
    "best_score"
   ]
  },
  {
   "cell_type": "code",
   "execution_count": 154,
   "metadata": {
    "collapsed": false
   },
   "outputs": [
    {
     "data": {
      "text/plain": [
       "14"
      ]
     },
     "execution_count": 154,
     "metadata": {},
     "output_type": "execute_result"
    }
   ],
   "source": [
    "best_max_features"
   ]
  },
  {
   "cell_type": "code",
   "execution_count": 155,
   "metadata": {
    "collapsed": false
   },
   "outputs": [
    {
     "data": {
      "text/plain": [
       "10"
      ]
     },
     "execution_count": 155,
     "metadata": {},
     "output_type": "execute_result"
    }
   ],
   "source": [
    "best_min_samples_split"
   ]
  },
  {
   "cell_type": "code",
   "execution_count": 156,
   "metadata": {
    "collapsed": false
   },
   "outputs": [
    {
     "data": {
      "text/plain": [
       "5"
      ]
     },
     "execution_count": 156,
     "metadata": {},
     "output_type": "execute_result"
    }
   ],
   "source": [
    "best_min_samples_leaf"
   ]
  },
  {
   "cell_type": "code",
   "execution_count": 151,
   "metadata": {
    "collapsed": true
   },
   "outputs": [],
   "source": [
    "#Cлучайный лес с наилучшими найденными параметрами\n",
    "RF_best = RandomForestRegressor(n_estimators = 1000,\n",
    "                                min_samples_split = best_min_samples_split, \n",
    "                                min_samples_leaf = best_min_samples_leaf,\n",
    "                                max_features = best_max_features, \n",
    "                                n_jobs = -1,\n",
    "                                random_state = 241)"
   ]
  },
  {
   "cell_type": "markdown",
   "metadata": {},
   "source": [
    "# Важность признаков."
   ]
  },
  {
   "cell_type": "code",
   "execution_count": 152,
   "metadata": {
    "collapsed": true
   },
   "outputs": [],
   "source": [
    "RF_best.fit(X,y)\n",
    "feature_importances = RF_best.feature_importances_"
   ]
  },
  {
   "cell_type": "code",
   "execution_count": 153,
   "metadata": {
    "collapsed": false
   },
   "outputs": [
    {
     "data": {
      "text/plain": [
       "<matplotlib.text.Text at 0x7f2a71efcef0>"
      ]
     },
     "execution_count": 153,
     "metadata": {},
     "output_type": "execute_result"
    },
    {
     "data": {
      "text/plain": [
       "<matplotlib.figure.Figure at 0x7f2a770c6a90>"
      ]
     },
     "metadata": {},
     "output_type": "display_data"
    },
    {
     "data": {
      "image/png": "[encoded data removed]",
      "text/plain": [
       "<matplotlib.figure.Figure at 0x7f2a71efceb8>"
      ]
     },
     "metadata": {},
     "output_type": "display_data"
    }
   ],
   "source": [
    "df_fi = pd.DataFrame({\"feature\": data.drop(['N','Price'],1).columns,'importance':feature_importances})\n",
    "df_fi = df_fi.sort_values('importance')\n",
    "\n",
    "plt.figure()\n",
    "df_fi.plot(kind='barh',\n",
    "                     x='feature',\n",
    "                     y='importance',\n",
    "                     sort_columns=False,\n",
    "                     legend=False,\n",
    "                     figsize=(10, 6),\n",
    "                     facecolor='#1DE9B6',\n",
    "                     edgecolor='white')\n",
    "\n",
    "plt.title('Random forest feature importance.')\n",
    "plt.xlabel('relative importance')"
   ]
  }
 ],
 "metadata": {
  "anaconda-cloud": {},
  "kernelspec": {
   "display_name": "Python [conda root]",
   "language": "python",
   "name": "conda-root-py"
  },
  "language_info": {
   "codemirror_mode": {
    "name": "ipython",
    "version": 3
   },
   "file_extension": ".py",
   "mimetype": "text/x-python",
   "name": "python",
   "nbconvert_exporter": "python",
   "pygments_lexer": "ipython3",
   "version": "3.5.2"
  }
 },
 "nbformat": 4,
 "nbformat_minor": 2
}
