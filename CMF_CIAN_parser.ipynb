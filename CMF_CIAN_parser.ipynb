{
 "cells": [
  {
   "cell_type": "markdown",
   "metadata": {},
   "source": [
    "# CIAN.ru"
   ]
  },
  {
   "cell_type": "code",
   "execution_count": 1,
   "metadata": {
    "collapsed": false
   },
   "outputs": [],
   "source": [
    "import requests\n",
    "import re\n",
    "from bs4 import BeautifulSoup\n",
    "import pandas as pd\n",
    "import numpy as np\n",
    "import time\n",
    "from math import sin, cos, sqrt, radians"
   ]
  },
  {
   "cell_type": "code",
   "execution_count": 2,
   "metadata": {
    "collapsed": true
   },
   "outputs": [],
   "source": [
    "def html_stripper(text):\n",
    "    return re.sub('<[^<]+?>', '', str(text))"
   ]
  },
  {
   "cell_type": "markdown",
   "metadata": {},
   "source": [
    "**Словарь, содержащий информацию о квартирах Москвы**"
   ]
  },
  {
   "cell_type": "code",
   "execution_count": 3,
   "metadata": {
    "collapsed": true
   },
   "outputs": [],
   "source": [
    "#Создание словаря с клчючом \"District\". По этому ключу будет хранится список,  \n",
    "flatStats = {'District':[]} #инициализация списка, хранящего сведения о квартирах"
   ]
  },
  {
   "cell_type": "markdown",
   "metadata": {},
   "source": [
    "**Введём численные обозначения округов Москвы**:\n",
    "* 0 - ЦАО\n",
    "* 1 - САО\n",
    "* 2 - СВАО\n",
    "* 3 - ВАО\n",
    "* 4 - ЮВАО\n",
    "* 5 - ЮАО\n",
    "* 6 - ЮЗАО\n",
    "* 7 - ЗАО\n",
    "* 8 - СЗАО\n",
    "* 9 - НАО\n",
    "* 10 - ТАО"
   ]
  },
  {
   "cell_type": "markdown",
   "metadata": {},
   "source": [
    "# Описание парсинга для ЦАО, для остальных округов действия будут аналогичными.\n",
    "### Для ЦАО находим главную ссылку и в ней находим **&p=1&**, это и есть переход по страницам."
   ]
  },
  {
   "cell_type": "code",
   "execution_count": 4,
   "metadata": {
    "collapsed": false
   },
   "outputs": [],
   "source": [
    "district = 'http://www.cian.ru/cat.php?deal_type=sale&district%5B0%5D=13&district%5B1%5D=14&district%5B2%5D=15&district%5B3%5D=16&district%5B4%5D=17&district%5B5%5D=18&district%5B6%5D=19&district%5B7%5D=20&district%5B8%5D=21&district%5B9%5D=22&engine_version=2&offer_type=flat&p={}&room1=1&room2=1&room3=1&room4=1&room5=1&room6=1'"
   ]
  },
  {
   "cell_type": "code",
   "execution_count": 5,
   "metadata": {
    "collapsed": false
   },
   "outputs": [
    {
     "data": {
      "text/plain": [
       "'http://www.cian.ru/cat.php?deal_type=sale&district%5B0%5D=13&district%5B1%5D=14&district%5B2%5D=15&district%5B3%5D=16&district%5B4%5D=17&district%5B5%5D=18&district%5B6%5D=19&district%5B7%5D=20&district%5B8%5D=21&district%5B9%5D=22&engine_version=2&offer_type=flat&p={}&room1=1&room2=1&room3=1&room4=1&room5=1&room6=1'"
      ]
     },
     "execution_count": 5,
     "metadata": {},
     "output_type": "execute_result"
    }
   ],
   "source": [
    "district"
   ]
  },
  {
   "cell_type": "markdown",
   "metadata": {},
   "source": [
    "### Шагаем по страницам и качаем с них все ссылки на квартиры"
   ]
  },
  {
   "cell_type": "code",
   "execution_count": 6,
   "metadata": {
    "collapsed": false
   },
   "outputs": [],
   "source": [
    "links = []\n",
    "for page in range(1, 30):\n",
    "    page_url =  district.format(page)\n",
    "\n",
    "    search_page = requests.get(page_url)\n",
    "    search_page = search_page.content\n",
    "    search_page = BeautifulSoup(search_page, 'lxml')\n",
    "\n",
    "    flat_urls = search_page.findAll('div', attrs = {'ng-class':\"{'serp-item_removed': offer.remove.state, 'serp-item_popup-opened': isPopupOpen}\"})\n",
    "    flat_urls = re.split('http://www.cian.ru/sale/flat/|/\" ng-class=\"', str(flat_urls))\n",
    "\n",
    "    for link in flat_urls:\n",
    "        if link.isdigit():\n",
    "            links.append(link)"
   ]
  },
  {
   "cell_type": "code",
   "execution_count": null,
   "metadata": {
    "collapsed": false
   },
   "outputs": [],
   "source": [
    "links"
   ]
  },
  {
   "cell_type": "code",
   "execution_count": 8,
   "metadata": {
    "collapsed": false
   },
   "outputs": [
    {
     "data": {
      "text/plain": [
       "812"
      ]
     },
     "execution_count": 8,
     "metadata": {},
     "output_type": "execute_result"
    }
   ],
   "source": [
    "len(links)"
   ]
  },
  {
   "cell_type": "markdown",
   "metadata": {},
   "source": [
    "Итого вытащили 812 квартир по ЦАО"
   ]
  },
  {
   "cell_type": "markdown",
   "metadata": {},
   "source": [
    "### Переход на первую из них"
   ]
  },
  {
   "cell_type": "code",
   "execution_count": 9,
   "metadata": {
    "collapsed": false
   },
   "outputs": [],
   "source": [
    "flat_url = 'http://www.cian.ru/sale/flat/' + str(links[0]) + '/'\n",
    "#flat_url = 'http://www.cian.ru/sale/flat/150531912/' \n",
    "flat_page = requests.get(flat_url)\n",
    "flat_page = flat_page.content\n",
    "flat_page = BeautifulSoup(flat_page, 'lxml')"
   ]
  },
  {
   "cell_type": "code",
   "execution_count": 10,
   "metadata": {
    "collapsed": false
   },
   "outputs": [],
   "source": [
    "flatStats['District']+=[0] #работаем с ЦАО"
   ]
  },
  {
   "cell_type": "markdown",
   "metadata": {},
   "source": [
    "# Цена"
   ]
  },
  {
   "cell_type": "code",
   "execution_count": 11,
   "metadata": {
    "collapsed": false
   },
   "outputs": [],
   "source": [
    "price = flat_page.find('div', attrs={'class':'object_descr_price'})\n",
    "price = re.split('<div>|за м<sup>2</sup>|\\n|руб|\\W', str(price))"
   ]
  },
  {
   "cell_type": "code",
   "execution_count": 12,
   "metadata": {
    "collapsed": false
   },
   "outputs": [
    {
     "name": "stdout",
     "output_type": "stream",
     "text": [
      "['', 'div', 'class', '', 'object_descr_price', '', '', '', '', '', '', '', '', '', '', '', '', '', '', '', '', '', '', '', '', '', '', '', '', '', '', '', '', '', '', '', '', '', '55', '000', '000', '', '', '', '', '', '', '', '', '', '', '', '', '', '', '', '', '', '', '', '', '', '', '', '', '', '', '', '', '', '', '', '', '', '', '', '', '', '', '', '', '', '', '', '', '', '', '', '', '', '', '', '', '', '', '', 'div', '']\n"
     ]
    }
   ],
   "source": [
    "print(price)"
   ]
  },
  {
   "cell_type": "code",
   "execution_count": 13,
   "metadata": {
    "collapsed": false
   },
   "outputs": [
    {
     "data": {
      "text/plain": [
       "['55', '000', '000']"
      ]
     },
     "execution_count": 13,
     "metadata": {},
     "output_type": "execute_result"
    }
   ],
   "source": [
    "[i for i in price if i.isdigit()][-3:]"
   ]
  },
  {
   "cell_type": "code",
   "execution_count": 14,
   "metadata": {
    "collapsed": false
   },
   "outputs": [
    {
     "data": {
      "text/plain": [
       "'55000000'"
      ]
     },
     "execution_count": 14,
     "metadata": {},
     "output_type": "execute_result"
    }
   ],
   "source": [
    "\"\".join([i for i in price if i.isdigit()][-3:])"
   ]
  },
  {
   "cell_type": "code",
   "execution_count": 15,
   "metadata": {
    "collapsed": true
   },
   "outputs": [],
   "source": [
    "price = \"\".join([i for i in price if i.isdigit()][-3:])"
   ]
  },
  {
   "cell_type": "code",
   "execution_count": 16,
   "metadata": {
    "collapsed": true
   },
   "outputs": [],
   "source": [
    "def getPrice(flat_page):\n",
    "    price = flat_page.find('div', attrs={'class':'object_descr_price'})\n",
    "    price = re.split('<div>|руб|\\W', str(price))\n",
    "    price = \"\".join([i for i in price if i.isdigit()][-3:])\n",
    "    try:\n",
    "        return int(price)\n",
    "    except:\n",
    "        return '-'"
   ]
  },
  {
   "cell_type": "code",
   "execution_count": 17,
   "metadata": {
    "collapsed": false
   },
   "outputs": [
    {
     "data": {
      "text/plain": [
       "55000000"
      ]
     },
     "execution_count": 17,
     "metadata": {},
     "output_type": "execute_result"
    }
   ],
   "source": [
    "getPrice(flat_page)"
   ]
  },
  {
   "cell_type": "code",
   "execution_count": 18,
   "metadata": {
    "collapsed": true
   },
   "outputs": [],
   "source": [
    "flatStats['Price'] = [] #список под хранение цен на квартиры\n",
    "flatStats['Price'] += [getPrice(flat_page)]"
   ]
  },
  {
   "cell_type": "markdown",
   "metadata": {},
   "source": [
    "# Координаты местонахождения квартир"
   ]
  },
  {
   "cell_type": "code",
   "execution_count": 19,
   "metadata": {
    "collapsed": false
   },
   "outputs": [
    {
     "data": {
      "text/plain": [
       "<a href=\"http://map.cian.ru/?deal_type=2&amp;flats=yes&amp;center=55.759208%2C37.643408&amp;room0=1&amp;room1=1&amp;room2=1&amp;room3=1&amp;room4=1\" rel=\"nofollow\" target=\"_blank\"><i></i>Посмотреть предложения рядом</a>"
      ]
     },
     "execution_count": 19,
     "metadata": {},
     "output_type": "execute_result"
    }
   ],
   "source": [
    "flat_page.find('div', attrs={'class':'map_info_button_extend'}).contents[1]"
   ]
  },
  {
   "cell_type": "code",
   "execution_count": 20,
   "metadata": {
    "collapsed": false
   },
   "outputs": [],
   "source": [
    "coords = flat_page.find('div', attrs={'class':'map_info_button_extend'}).contents[1]\n",
    "coords = re.split('&amp|center=|%2C', str(coords))\n",
    "coords_list = []\n",
    "for item in coords:\n",
    "    if item[0].isdigit():\n",
    "        coords_list.append(item)\n",
    "lat = float(coords_list[0])\n",
    "lon = float(coords_list[1])"
   ]
  },
  {
   "cell_type": "code",
   "execution_count": 21,
   "metadata": {
    "collapsed": false
   },
   "outputs": [
    {
     "data": {
      "text/plain": [
       "(55.759208, 37.643408)"
      ]
     },
     "execution_count": 21,
     "metadata": {},
     "output_type": "execute_result"
    }
   ],
   "source": [
    "lat, lon"
   ]
  },
  {
   "cell_type": "code",
   "execution_count": 22,
   "metadata": {
    "collapsed": true
   },
   "outputs": [],
   "source": [
    "def getCoords(flat_page):\n",
    "    coords = flat_page.find('div', attrs={'class':'map_info_button_extend'}).contents[1]\n",
    "    coords = re.split('&amp|center=|%2C', str(coords))\n",
    "    coords_list = []\n",
    "    for item in coords:\n",
    "        if item[0].isdigit():\n",
    "            coords_list.append(item)\n",
    "    lat = float(coords_list[0]) #широта\n",
    "    lon = float(coords_list[1]) #долгота\n",
    "    return lat, lon"
   ]
  },
  {
   "cell_type": "code",
   "execution_count": 23,
   "metadata": {
    "collapsed": false
   },
   "outputs": [
    {
     "data": {
      "text/plain": [
       "(55.759208, 37.643408)"
      ]
     },
     "execution_count": 23,
     "metadata": {},
     "output_type": "execute_result"
    }
   ],
   "source": [
    "getCoords(flat_page)"
   ]
  },
  {
   "cell_type": "markdown",
   "metadata": {},
   "source": [
    "# Расстояние от квартиры до центра Москвы(в км)"
   ]
  },
  {
   "cell_type": "markdown",
   "metadata": {},
   "source": [
    "**Положим, что центром Москвы является Красная площадь**.\n",
    "\n",
    "Её координаты:\n",
    "\n",
    "широта: **55.753594**;\n",
    "\n",
    "долгота: **37.622601**.\n",
    "\n",
    "Так как площадь поверхности, занимаемой Москвой, мала по сравнению с площадью поверхности Земли, то при расчёте расстояний от квартиры до Красной площади кривизной поверхности можно пренебречь. Т.е. поверхность, занимаемая Москвой, -- это плоскость.\n"
   ]
  },
  {
   "cell_type": "code",
   "execution_count": 24,
   "metadata": {
    "collapsed": true
   },
   "outputs": [],
   "source": [
    "#Радиус Земли, в км \n",
    "R = 6371.0\n",
    "#Географические координаты Красной Площади\n",
    "lat_RS = 55.753594\n",
    "lon_RS = 37.622601"
   ]
  },
  {
   "cell_type": "markdown",
   "metadata": {},
   "source": [
    "Географические координаты тесно связаны со сферическими координатами, а сферические -- с декартовыми."
   ]
  },
  {
   "cell_type": "markdown",
   "metadata": {},
   "source": [
    "Переход от географических координат к декартовым координатам:"
   ]
  },
  {
   "cell_type": "code",
   "execution_count": 25,
   "metadata": {
    "collapsed": false
   },
   "outputs": [],
   "source": [
    "x = R*sin(radians(lat))*cos(radians(lon))\n",
    "y = R*sin(radians(lat))*sin(radians(lon))\n",
    "#координату z не рассматриваем в силу предположения о не кривизне поверхности  "
   ]
  },
  {
   "cell_type": "code",
   "execution_count": 26,
   "metadata": {
    "collapsed": true
   },
   "outputs": [],
   "source": [
    "#Декартовы координаты Красной площади\n",
    "x_RS = R*sin(radians(lat_RS))*cos(radians(lon_RS))\n",
    "y_RS = R*sin(radians(lat_RS))*sin(radians(lon_RS))"
   ]
  },
  {
   "cell_type": "code",
   "execution_count": 27,
   "metadata": {
    "collapsed": true
   },
   "outputs": [],
   "source": [
    "#искомое расстояние, в км\n",
    "distance = sqrt(((x - x_RS)**2) + ((y - y_RS)**2))"
   ]
  },
  {
   "cell_type": "code",
   "execution_count": 28,
   "metadata": {
    "collapsed": false
   },
   "outputs": [
    {
     "data": {
      "text/plain": [
       "1.9445613162783342"
      ]
     },
     "execution_count": 28,
     "metadata": {},
     "output_type": "execute_result"
    }
   ],
   "source": [
    "distance"
   ]
  },
  {
   "cell_type": "code",
   "execution_count": 29,
   "metadata": {
    "collapsed": true
   },
   "outputs": [],
   "source": [
    "def Dist(flat_page):\n",
    "    #Радиус Земли, в км \n",
    "    R = 6371.0\n",
    "    #Географические координаты Красной Площади\n",
    "    lat_RS = 55.753594\n",
    "    lon_RS = 37.622601\n",
    "    \n",
    "    coords = flat_page.find('div', attrs={'class':'map_info_button_extend'}).contents[1]\n",
    "    coords = re.split('&amp|center=|%2C', str(coords))\n",
    "    coords_list = []\n",
    "    for item in coords:\n",
    "        if item[0].isdigit():\n",
    "            coords_list.append(item)\n",
    "    lat = float(coords_list[0]) \n",
    "    lon = float(coords_list[1]) \n",
    "    \n",
    "    x = R*sin(radians(lat))*cos(radians(lon))\n",
    "    y = R*sin(radians(lat))*sin(radians(lon))\n",
    "    x_RS = R*sin(radians(lat_RS))*cos(radians(lon_RS))\n",
    "    y_RS = R*sin(radians(lat_RS))*sin(radians(lon_RS))\n",
    "    \n",
    "    return  float(\"{0:.2f}\".format(sqrt(((x - x_RS)**2) + ((y - y_RS)**2)))) #<--- возвращается расстояние, округлённое до двух знаков после запятой\n",
    "    "
   ]
  },
  {
   "cell_type": "code",
   "execution_count": 30,
   "metadata": {
    "collapsed": false
   },
   "outputs": [
    {
     "data": {
      "text/plain": [
       "1.94"
      ]
     },
     "execution_count": 30,
     "metadata": {},
     "output_type": "execute_result"
    }
   ],
   "source": [
    "Dist(flat_page)"
   ]
  },
  {
   "cell_type": "code",
   "execution_count": 31,
   "metadata": {
    "collapsed": true
   },
   "outputs": [],
   "source": [
    "#Список под хранение расстояний до центра\n",
    "flatStats['Dist'] = [] \n",
    "flatStats['Dist'] += [Dist(flat_page)]"
   ]
  },
  {
   "cell_type": "markdown",
   "metadata": {},
   "source": [
    "# Число комнат"
   ]
  },
  {
   "cell_type": "code",
   "execution_count": 32,
   "metadata": {
    "collapsed": true
   },
   "outputs": [],
   "source": [
    "rooms = flat_page.find('div', attrs={'class':'object_descr_title'})"
   ]
  },
  {
   "cell_type": "code",
   "execution_count": 33,
   "metadata": {
    "collapsed": false
   },
   "outputs": [
    {
     "data": {
      "text/plain": [
       "<div class=\"object_descr_title\" itemprop=\"name\">\n",
       "                \n",
       "    \n",
       "        4-комн. кв. \n",
       "    \n",
       "\n",
       "                \n",
       "                    \n",
       "                \n",
       "                </div>"
      ]
     },
     "execution_count": 33,
     "metadata": {},
     "output_type": "execute_result"
    }
   ],
   "source": [
    "rooms"
   ]
  },
  {
   "cell_type": "code",
   "execution_count": 34,
   "metadata": {
    "collapsed": false
   },
   "outputs": [],
   "source": [
    "rooms = html_stripper(rooms)"
   ]
  },
  {
   "cell_type": "code",
   "execution_count": 35,
   "metadata": {
    "collapsed": false
   },
   "outputs": [
    {
     "data": {
      "text/plain": [
       "'\\n                \\n    \\n        4-комн. кв.\\xa0\\n    \\n\\n                \\n                    \\n                \\n                '"
      ]
     },
     "execution_count": 35,
     "metadata": {},
     "output_type": "execute_result"
    }
   ],
   "source": [
    "rooms"
   ]
  },
  {
   "cell_type": "code",
   "execution_count": 36,
   "metadata": {
    "collapsed": false
   },
   "outputs": [],
   "source": [
    "room_number = ''\n",
    "for i in re.split('-|\\n', rooms):\n",
    "    if 'комн' in i:\n",
    "        break\n",
    "    else:\n",
    "        room_number += i\n",
    "room_number = \"\".join(room_number.split())"
   ]
  },
  {
   "cell_type": "code",
   "execution_count": 37,
   "metadata": {
    "collapsed": false
   },
   "outputs": [
    {
     "data": {
      "text/plain": [
       "'4'"
      ]
     },
     "execution_count": 37,
     "metadata": {},
     "output_type": "execute_result"
    }
   ],
   "source": [
    "room_number"
   ]
  },
  {
   "cell_type": "code",
   "execution_count": 38,
   "metadata": {
    "collapsed": true
   },
   "outputs": [],
   "source": [
    "def getRoom(flat_page):\n",
    "    rooms = flat_page.find('div', attrs={'class':'object_descr_title'})\n",
    "    rooms = html_stripper(rooms)\n",
    "    room_number = ''\n",
    "    for i in re.split('-|\\n', rooms):\n",
    "        if 'комн' in i:\n",
    "            break\n",
    "        else:\n",
    "            room_number += i\n",
    "    room_number = \"\".join(room_number.split())\n",
    "    try:\n",
    "        return int(room_number)\n",
    "    except:\n",
    "        return '-' #в случае, если на странице не оказалась информация о числе комнат в квартире"
   ]
  },
  {
   "cell_type": "code",
   "execution_count": 39,
   "metadata": {
    "collapsed": false
   },
   "outputs": [
    {
     "data": {
      "text/plain": [
       "4"
      ]
     },
     "execution_count": 39,
     "metadata": {},
     "output_type": "execute_result"
    }
   ],
   "source": [
    "getRoom(flat_page)"
   ]
  },
  {
   "cell_type": "code",
   "execution_count": 40,
   "metadata": {
    "collapsed": true
   },
   "outputs": [],
   "source": [
    "#Список под хранение числа комнат\n",
    "flatStats['Rooms'] = [] \n",
    "flatStats['Rooms'] += [getRoom(flat_page)]"
   ]
  },
  {
   "cell_type": "markdown",
   "metadata": {},
   "source": [
    "# Расстояние до метро в минутах"
   ]
  },
  {
   "cell_type": "code",
   "execution_count": 41,
   "metadata": {
    "collapsed": false
   },
   "outputs": [],
   "source": [
    "metrdist = flat_page.find('span', attrs={'class':'object_item_metro_comment'})"
   ]
  },
  {
   "cell_type": "code",
   "execution_count": 42,
   "metadata": {
    "collapsed": false
   },
   "outputs": [
    {
     "data": {
      "text/plain": [
       "<span class=\"object_item_metro_comment\">\n",
       "                10\n",
       "                мин.\n",
       "                \n",
       "                    пешком\n",
       "                \n",
       "            </span>"
      ]
     },
     "execution_count": 42,
     "metadata": {},
     "output_type": "execute_result"
    }
   ],
   "source": [
    "metrdist"
   ]
  },
  {
   "cell_type": "code",
   "execution_count": 43,
   "metadata": {
    "collapsed": true
   },
   "outputs": [],
   "source": [
    "metrdist = html_stripper(metrdist)"
   ]
  },
  {
   "cell_type": "code",
   "execution_count": 44,
   "metadata": {
    "collapsed": false
   },
   "outputs": [
    {
     "data": {
      "text/plain": [
       "'\\n                10\\n                мин.\\n                \\n                    пешком\\n                \\n            '"
      ]
     },
     "execution_count": 44,
     "metadata": {},
     "output_type": "execute_result"
    }
   ],
   "source": [
    "metrdist"
   ]
  },
  {
   "cell_type": "code",
   "execution_count": 45,
   "metadata": {
    "collapsed": false
   },
   "outputs": [
    {
     "data": {
      "text/plain": [
       "['10', 'мин.', 'пешком']"
      ]
     },
     "execution_count": 45,
     "metadata": {},
     "output_type": "execute_result"
    }
   ],
   "source": [
    "#разбиение строки metrdist\n",
    "metrdist.split()"
   ]
  },
  {
   "cell_type": "code",
   "execution_count": 46,
   "metadata": {
    "collapsed": false
   },
   "outputs": [
    {
     "name": "stdout",
     "output_type": "stream",
     "text": [
      "10\n"
     ]
    }
   ],
   "source": [
    "#Ищем расстояние до метро\n",
    "for i in metrdist.split():\n",
    "    if i.isdigit():\n",
    "        print(int(i))"
   ]
  },
  {
   "cell_type": "code",
   "execution_count": 47,
   "metadata": {
    "collapsed": true
   },
   "outputs": [],
   "source": [
    "def Metrdist(flat_page):\n",
    "    metrdist = flat_page.find('span', attrs={'class':'object_item_metro_comment'})\n",
    "    metrdist = html_stripper(metrdist)\n",
    "    for i in metrdist.split():\n",
    "        if i.isdigit():\n",
    "            return int(i)\n",
    "        else:\n",
    "            return '-' #в случае, если отсутствует информация о времени"
   ]
  },
  {
   "cell_type": "code",
   "execution_count": 48,
   "metadata": {
    "collapsed": false
   },
   "outputs": [
    {
     "data": {
      "text/plain": [
       "10"
      ]
     },
     "execution_count": 48,
     "metadata": {},
     "output_type": "execute_result"
    }
   ],
   "source": [
    "Metrdist(flat_page)"
   ]
  },
  {
   "cell_type": "code",
   "execution_count": 49,
   "metadata": {
    "collapsed": true
   },
   "outputs": [],
   "source": [
    "#Список под хранение расстояния до метро в минутах.\n",
    "flatStats['Metrdist'] = [] \n",
    "flatStats['Metrdist'] += [Metrdist(flat_page)]"
   ]
  },
  {
   "cell_type": "markdown",
   "metadata": {},
   "source": [
    "# Расстояние до метро, если пешком"
   ]
  },
  {
   "cell_type": "code",
   "execution_count": 50,
   "metadata": {
    "collapsed": true
   },
   "outputs": [],
   "source": [
    "def Walk(flat_page):\n",
    "    walk = flat_page.find('span', attrs={'class':'object_item_metro_comment'})\n",
    "    walk = html_stripper(walk)\n",
    "    if \"пешком\" in walk:\n",
    "        return 1\n",
    "    else:\n",
    "        return 0"
   ]
  },
  {
   "cell_type": "code",
   "execution_count": 51,
   "metadata": {
    "collapsed": false
   },
   "outputs": [
    {
     "data": {
      "text/plain": [
       "1"
      ]
     },
     "execution_count": 51,
     "metadata": {},
     "output_type": "execute_result"
    }
   ],
   "source": [
    "Walk(flat_page)"
   ]
  },
  {
   "cell_type": "code",
   "execution_count": 52,
   "metadata": {
    "collapsed": true
   },
   "outputs": [],
   "source": [
    "#Список под хранение результата предиката [расстояния до метро,если пешком].\n",
    "flatStats['Walk'] = [] \n",
    "flatStats['Walk'] += [Walk(flat_page)]"
   ]
  },
  {
   "cell_type": "markdown",
   "metadata": {},
   "source": [
    "# Общая информация о квартире"
   ]
  },
  {
   "cell_type": "code",
   "execution_count": 53,
   "metadata": {
    "collapsed": false
   },
   "outputs": [],
   "source": [
    "table = flat_page.find('table', attrs = {'class':'object_descr_props'})"
   ]
  },
  {
   "cell_type": "code",
   "execution_count": 54,
   "metadata": {
    "collapsed": true
   },
   "outputs": [],
   "source": [
    "table = html_stripper(table)"
   ]
  },
  {
   "cell_type": "code",
   "execution_count": null,
   "metadata": {
    "collapsed": false
   },
   "outputs": [],
   "source": [
    "print(html_stripper(table)) #регулярные выражения для очистки от HTML-кода нам в помощь"
   ]
  },
  {
   "cell_type": "markdown",
   "metadata": {},
   "source": [
    "### Номер этажа, на котором расположена квартира"
   ]
  },
  {
   "cell_type": "code",
   "execution_count": null,
   "metadata": {
    "collapsed": false
   },
   "outputs": [],
   "source": [
    "#Разбиение table по пробелам\n",
    "table.split()"
   ]
  },
  {
   "cell_type": "code",
   "execution_count": 57,
   "metadata": {
    "collapsed": false
   },
   "outputs": [
    {
     "name": "stdout",
     "output_type": "stream",
     "text": [
      "2\n"
     ]
    }
   ],
   "source": [
    "#Ищем слово \"Этаж\" в общей информации о квартире\n",
    "for i in range(len(table.split())):\n",
    "    if \"Этаж\" in table.split()[i]: \n",
    "        print(table.split()[i+1]) "
   ]
  },
  {
   "cell_type": "code",
   "execution_count": 58,
   "metadata": {
    "collapsed": true
   },
   "outputs": [],
   "source": [
    "#Объявление и определение функции, возвращающей номер этажа, на котором расположена квартира \n",
    "def getFloor(flat_page):\n",
    "    table = flat_page.find('table', attrs = {'class':'object_descr_props'})\n",
    "    table = html_stripper(table)\n",
    "    for i in range(len(table.split())):\n",
    "        if \"Этаж:\" in table.split()[i]: \n",
    "            return int(table.split()[i+1])  #следующий элемент в списке после \"Этаж\" -- это номер этажа, на котором находится квартира\n",
    "    \n",
    "    #вдруг оказалось так, что нет информации об этаже\n",
    "    if \"Этаж:\" not in table.split():\n",
    "        return '-'"
   ]
  },
  {
   "cell_type": "code",
   "execution_count": 59,
   "metadata": {
    "collapsed": false
   },
   "outputs": [
    {
     "data": {
      "text/plain": [
       "2"
      ]
     },
     "execution_count": 59,
     "metadata": {},
     "output_type": "execute_result"
    }
   ],
   "source": [
    "getFloor(flat_page)"
   ]
  },
  {
   "cell_type": "code",
   "execution_count": 60,
   "metadata": {
    "collapsed": false
   },
   "outputs": [],
   "source": [
    "#Список под хранение номера этажа, на котором расположена квартира\n",
    "flatStats['Floor'] = []\n",
    "flatStats['Floor'] +=[getFloor(flat_page)] "
   ]
  },
  {
   "cell_type": "markdown",
   "metadata": {},
   "source": [
    "### Всего этажей в доме"
   ]
  },
  {
   "cell_type": "code",
   "execution_count": 61,
   "metadata": {
    "collapsed": true
   },
   "outputs": [],
   "source": [
    "#Объявление и определение функции, возвращающей общее количество этажей в доме \n",
    "def getNfloors(flat_page):\n",
    "    table = flat_page.find('table', attrs = {'class':'object_descr_props'})\n",
    "    table = html_stripper(table)\n",
    "    for i in range(len(table.split())):\n",
    "        if \"Этаж:\" in table.split()[i]: \n",
    "            try:\n",
    "                return int(table.split()[i+3])  #третий элемент в списке после \"Этаж\" -- это общее количество этажей в доме\n",
    "            except:\n",
    "                return '-'\n",
    "    #вдруг оказалось так, что нет информации об этаже или вообще отсутствует такое поле\n",
    "    if \"Этаж:\" not in table.split():\n",
    "        return '-'"
   ]
  },
  {
   "cell_type": "code",
   "execution_count": 62,
   "metadata": {
    "collapsed": false
   },
   "outputs": [
    {
     "data": {
      "text/plain": [
       "6"
      ]
     },
     "execution_count": 62,
     "metadata": {},
     "output_type": "execute_result"
    }
   ],
   "source": [
    "getNfloors(flat_page)"
   ]
  },
  {
   "cell_type": "code",
   "execution_count": 63,
   "metadata": {
    "collapsed": true
   },
   "outputs": [],
   "source": [
    "#Список под хранение количество этажей в доме\n",
    "flatStats['Nfloors'] = []\n",
    "flatStats['Nfloors'] +=[getNfloors(flat_page)] "
   ]
  },
  {
   "cell_type": "markdown",
   "metadata": {},
   "source": [
    "### Тип дома: первичный рынок - 1,  вторичка - 0 "
   ]
  },
  {
   "cell_type": "code",
   "execution_count": 64,
   "metadata": {
    "collapsed": false
   },
   "outputs": [
    {
     "name": "stdout",
     "output_type": "stream",
     "text": [
      "1\n"
     ]
    }
   ],
   "source": [
    "#Проверяем, в каком рынке находится дом\n",
    "if \"вторичка\" in table:\n",
    "    print(1)\n",
    "else:\n",
    "    print(0)"
   ]
  },
  {
   "cell_type": "code",
   "execution_count": 65,
   "metadata": {
    "collapsed": false
   },
   "outputs": [],
   "source": [
    "def is_New(flat_page):\n",
    "    table = flat_page.find('table', attrs = {'class':'object_descr_props'})\n",
    "    table = html_stripper(table)\n",
    "    if \"вторичка\" in table:\n",
    "        return 1\n",
    "    else:\n",
    "        return 0"
   ]
  },
  {
   "cell_type": "code",
   "execution_count": 66,
   "metadata": {
    "collapsed": false
   },
   "outputs": [
    {
     "data": {
      "text/plain": [
       "1"
      ]
     },
     "execution_count": 66,
     "metadata": {},
     "output_type": "execute_result"
    }
   ],
   "source": [
    "is_New(flat_page)"
   ]
  },
  {
   "cell_type": "code",
   "execution_count": 67,
   "metadata": {
    "collapsed": true
   },
   "outputs": [],
   "source": [
    "#Список под хранение информации о том, в каком рынке находится дом\n",
    "flatStats['New'] = []\n",
    "flatStats['New'] += [is_New(flat_page)]"
   ]
  },
  {
   "cell_type": "markdown",
   "metadata": {},
   "source": [
    "### Балкон/лоджия"
   ]
  },
  {
   "cell_type": "code",
   "execution_count": null,
   "metadata": {
    "collapsed": false
   },
   "outputs": [],
   "source": [
    "table.split()"
   ]
  },
  {
   "cell_type": "code",
   "execution_count": 69,
   "metadata": {
    "collapsed": true
   },
   "outputs": [],
   "source": [
    "#Функция, отвечающая на вопрос: есть ли в доме балкон/лоджия?\n",
    "def is_there_Bal(flat_page):\n",
    "    table = flat_page.find('table', attrs = {'class':'object_descr_props'})\n",
    "    table = html_stripper(table)\n",
    "    for i in range(len(table.split())):\n",
    "        if \"Балкон:\" in table.split()[i]: \n",
    "            try:\n",
    "                int(table.split()[i+1])\n",
    "                return 1\n",
    "            except:\n",
    "                return 0\n",
    "    #вдруг оказалось так, что нет информации об этаже или вообще отсутствует такое поле\n",
    "    if \"Балкон:\" not in table.split():\n",
    "        return '-'"
   ]
  },
  {
   "cell_type": "code",
   "execution_count": 70,
   "metadata": {
    "collapsed": false
   },
   "outputs": [
    {
     "data": {
      "text/plain": [
       "0"
      ]
     },
     "execution_count": 70,
     "metadata": {},
     "output_type": "execute_result"
    }
   ],
   "source": [
    "is_there_Bal(flat_page)"
   ]
  },
  {
   "cell_type": "code",
   "execution_count": 71,
   "metadata": {
    "collapsed": true
   },
   "outputs": [],
   "source": [
    "#Cписок под хранение информации о наличии балконов/лоджей  \n",
    "flatStats['Bal'] = []\n",
    "flatStats['Bal'] += [is_there_Bal(flat_page)]"
   ]
  },
  {
   "cell_type": "markdown",
   "metadata": {},
   "source": [
    "### Наличие домашнего телефона в доме"
   ]
  },
  {
   "cell_type": "code",
   "execution_count": 72,
   "metadata": {
    "collapsed": true
   },
   "outputs": [],
   "source": [
    "def is_there_Tel(flat_page):\n",
    "    table = flat_page.find('table', attrs = {'class':'object_descr_props'})\n",
    "    table = html_stripper(table)\n",
    "    for i in range(len(table.split())):\n",
    "        if \"Телефон:\" in table.split()[i]: \n",
    "            if table.split()[i+1]=='да':\n",
    "                return 1\n",
    "            else:\n",
    "                return 0\n",
    "    #вдруг оказалось так, что нет информации об этаже или вообще отсутствует такое поле\n",
    "    if \"Телефон:\" not in table.split():\n",
    "        return '-'"
   ]
  },
  {
   "cell_type": "code",
   "execution_count": 73,
   "metadata": {
    "collapsed": false
   },
   "outputs": [
    {
     "data": {
      "text/plain": [
       "1"
      ]
     },
     "execution_count": 73,
     "metadata": {},
     "output_type": "execute_result"
    }
   ],
   "source": [
    "is_there_Tel(flat_page)"
   ]
  },
  {
   "cell_type": "code",
   "execution_count": 74,
   "metadata": {
    "collapsed": true
   },
   "outputs": [],
   "source": [
    "#Cписок под хранение информации о наличии телефона\n",
    "flatStats['Tel'] = []\n",
    "flatStats['Tel'] += [is_there_Tel(flat_page)]"
   ]
  },
  {
   "cell_type": "markdown",
   "metadata": {},
   "source": [
    "### Тип дома"
   ]
  },
  {
   "cell_type": "code",
   "execution_count": 75,
   "metadata": {
    "collapsed": true
   },
   "outputs": [],
   "source": [
    "def is_Brick(flat_page):\n",
    "    table = flat_page.find('table', attrs = {'class':'object_descr_props'})\n",
    "    table = html_stripper(table)\n",
    "    if \"кирпичный\" in table:\n",
    "        return 1\n",
    "    elif \"монолитный\" in table:\n",
    "        return 1\n",
    "    elif \"железобетонный\" in table:\n",
    "        return 1\n",
    "    else:\n",
    "        return 0 "
   ]
  },
  {
   "cell_type": "code",
   "execution_count": 76,
   "metadata": {
    "collapsed": false
   },
   "outputs": [
    {
     "data": {
      "text/plain": [
       "1"
      ]
     },
     "execution_count": 76,
     "metadata": {},
     "output_type": "execute_result"
    }
   ],
   "source": [
    "is_Brick(flat_page)"
   ]
  },
  {
   "cell_type": "code",
   "execution_count": 77,
   "metadata": {
    "collapsed": true
   },
   "outputs": [],
   "source": [
    "#Cписок под хранение информации о типе дома\n",
    "flatStats['Brick'] = []\n",
    "flatStats['Brick'] += [is_Brick(flat_page)]"
   ]
  },
  {
   "cell_type": "markdown",
   "metadata": {},
   "source": [
    "### Общая площадь квартиры"
   ]
  },
  {
   "cell_type": "code",
   "execution_count": 78,
   "metadata": {
    "collapsed": false
   },
   "outputs": [],
   "source": [
    "#Функция, определяющая общую площадь комнаты\n",
    "def Totsp(flat_page):\n",
    "    table = flat_page.find('table', attrs = {'class':'object_descr_props'})\n",
    "    table = html_stripper(table)\n",
    "    #Разбиение table по пробелам\n",
    "    table = table.split()\n",
    "    \n",
    "    #Поиск общей площади\n",
    "    for i in range(len(table)):\n",
    "        if 'Общая' == table[i]:\n",
    "            if 'площадь:' == table[i+1]:\n",
    "                area_total_not_num = table[i+2] #площадь в не числовом формате!\n",
    "                #Преобразование общей площади к float\n",
    "                if ',' in area_total_not_num:\n",
    "                    area_total_not_num  = area_total_not_num.replace(',','.')\n",
    "                    try:\n",
    "                        return float(area_total_not_num)\n",
    "                    except:\n",
    "                        return '-'  #вдруг, если какой-то баг\n",
    "                try:\n",
    "                    return float(area_total_not_num)\n",
    "                except:\n",
    "                    return '-'  #вдруг, если отсутствует информация"
   ]
  },
  {
   "cell_type": "code",
   "execution_count": 79,
   "metadata": {
    "collapsed": false
   },
   "outputs": [
    {
     "data": {
      "text/plain": [
       "152.0"
      ]
     },
     "execution_count": 79,
     "metadata": {},
     "output_type": "execute_result"
    }
   ],
   "source": [
    "Totsp(flat_page)"
   ]
  },
  {
   "cell_type": "code",
   "execution_count": null,
   "metadata": {
    "collapsed": false
   },
   "outputs": [],
   "source": [
    "table.split()"
   ]
  },
  {
   "cell_type": "code",
   "execution_count": 81,
   "metadata": {
    "collapsed": true
   },
   "outputs": [],
   "source": [
    "#Cписок под хранение общей площади\n",
    "flatStats['Totsp'] = []\n",
    "flatStats['Totsp'] += [Totsp(flat_page)]"
   ]
  },
  {
   "cell_type": "markdown",
   "metadata": {},
   "source": [
    "### Жилая площадь квартиры"
   ]
  },
  {
   "cell_type": "code",
   "execution_count": null,
   "metadata": {
    "collapsed": false
   },
   "outputs": [],
   "source": [
    "re.split('Площадь|:|м2', table)"
   ]
  },
  {
   "cell_type": "code",
   "execution_count": 83,
   "metadata": {
    "collapsed": false
   },
   "outputs": [],
   "source": [
    "#Разбиение строки по 'Площадь', ':', 'м2'\n",
    "re.split('Площадь|:|м2', table)\n",
    "\n",
    "#Ищем \"Жилая площадь\" в разбиении, чтобы выйти на жилую площадь \n",
    "for i in range(len(re.split('Площадь|:|м2', table))):\n",
    "    if \"Жилая площадь\" in re.split('Площадь|:|м2', table)[i]:\n",
    "        area_live_not_num = re.split('Площадь|:|м2', table)[i+1] #жилая площадь в не числовом формате"
   ]
  },
  {
   "cell_type": "code",
   "execution_count": 84,
   "metadata": {
    "collapsed": false
   },
   "outputs": [
    {
     "data": {
      "text/plain": [
       "'\\n\\n100\\xa0'"
      ]
     },
     "execution_count": 84,
     "metadata": {},
     "output_type": "execute_result"
    }
   ],
   "source": [
    "area_live_not_num "
   ]
  },
  {
   "cell_type": "code",
   "execution_count": 85,
   "metadata": {
    "collapsed": true
   },
   "outputs": [],
   "source": [
    "#Преобразование жилой площади к float\n",
    "if ',' in area_live_not_num:\n",
    "    area_live_not_num = area_live_not_num.replace(',','.')\n",
    "try:\n",
    "    area_live = float(area_live_not_num)\n",
    "except:\n",
    "    area_live = '-'"
   ]
  },
  {
   "cell_type": "code",
   "execution_count": 86,
   "metadata": {
    "collapsed": false
   },
   "outputs": [
    {
     "data": {
      "text/plain": [
       "100.0"
      ]
     },
     "execution_count": 86,
     "metadata": {},
     "output_type": "execute_result"
    }
   ],
   "source": [
    "area_live\n"
   ]
  },
  {
   "cell_type": "code",
   "execution_count": 87,
   "metadata": {
    "collapsed": true
   },
   "outputs": [],
   "source": [
    "#Автоматизируем приведённые выше действия\n",
    "def Livesp(flat_page):\n",
    "    table = flat_page.find('table', attrs = {'class':'object_descr_props'})\n",
    "    table = html_stripper(table)\n",
    "    \n",
    "    for i in range(len(re.split('Площадь|:|м2', table))):\n",
    "        if \"Жилая площадь\" in re.split('Площадь|:|м2', table)[i]:\n",
    "            area_live_not_num = re.split('Площадь|:|м2', table)[i+1]\n",
    "    \n",
    "            if ',' in area_live_not_num:\n",
    "                area_live_not_num = area_live_not_num.replace(',','.')\n",
    "                try:\n",
    "                    return float(area_live_not_num)\n",
    "                except:\n",
    "                    return '-'\n",
    "            try:\n",
    "                return float(area_live_not_num)\n",
    "            except:\n",
    "                return '-'"
   ]
  },
  {
   "cell_type": "code",
   "execution_count": 88,
   "metadata": {
    "collapsed": false
   },
   "outputs": [
    {
     "data": {
      "text/plain": [
       "100.0"
      ]
     },
     "execution_count": 88,
     "metadata": {},
     "output_type": "execute_result"
    }
   ],
   "source": [
    "Livesp(flat_page)"
   ]
  },
  {
   "cell_type": "code",
   "execution_count": 89,
   "metadata": {
    "collapsed": true
   },
   "outputs": [],
   "source": [
    "#Cписок под хранение жилой площади\n",
    "flatStats['Livesp'] = []\n",
    "flatStats['Livesp'] += [Livesp(flat_page)]"
   ]
  },
  {
   "cell_type": "markdown",
   "metadata": {},
   "source": [
    "### Площадь кухни "
   ]
  },
  {
   "cell_type": "code",
   "execution_count": 90,
   "metadata": {
    "collapsed": false
   },
   "outputs": [],
   "source": [
    "#Разбиение строки по 'площадь', ':', 'м2'\n",
    "fragmentation = re.split('Площадь|:|м2', table)"
   ]
  },
  {
   "cell_type": "code",
   "execution_count": 91,
   "metadata": {
    "collapsed": false
   },
   "outputs": [
    {
     "name": "stdout",
     "output_type": "stream",
     "text": [
      "['\\n\\n # Общая информация', '\\n\\n\\nЭтаж', '\\n\\n                2\\xa0/\\xa06\\n                \\n            \\n\\n\\nТип дома', '\\n\\n            вторичка, \\n            кирпичный\\n        \\n\\n\\nТип продажи', '\\nсвободная\\n\\n\\nОбщая площадь', '\\n\\n152\\xa0', '\\n\\n\\n\\n', ' комнат', '\\n\\n49-17-17-10\\xa0', '\\n\\n\\n\\nЖилая площадь', '\\n\\n100\\xa0', '\\n\\n\\n\\n', ' кухни', '\\n\\n17\\xa0', '\\n\\n\\n\\nРаздельных санузлов', '\\n1\\n            \\n\\n\\nСовмещенных санузлов', '\\n1\\n            \\n\\n\\nБалкон', '\\n–\\n        \\n\\n\\nЛифт', '\\n1 пасс.\\n\\n\\nТелефон', '\\nда\\n\\n\\nВид из окна', '\\nдвор и улица\\n\\n\\nРемонт', '\\nдизайнерский\\n\\n']\n"
     ]
    }
   ],
   "source": [
    "print(fragmentation)"
   ]
  },
  {
   "cell_type": "code",
   "execution_count": 92,
   "metadata": {
    "collapsed": false
   },
   "outputs": [],
   "source": [
    "#Ищем слово \"кухни\" в fragmentation, чтобы выйти на площадь кухни\n",
    "for i in range(len(fragmentation)):\n",
    "    if \"кухни\" in fragmentation[i]:\n",
    "        area_kit_not_num = fragmentation[i+1] #площадь кухни в не числовом формате"
   ]
  },
  {
   "cell_type": "code",
   "execution_count": 93,
   "metadata": {
    "collapsed": false
   },
   "outputs": [
    {
     "data": {
      "text/plain": [
       "'\\n\\n17\\xa0'"
      ]
     },
     "execution_count": 93,
     "metadata": {},
     "output_type": "execute_result"
    }
   ],
   "source": [
    "area_kit_not_num"
   ]
  },
  {
   "cell_type": "code",
   "execution_count": 94,
   "metadata": {
    "collapsed": false
   },
   "outputs": [],
   "source": [
    "#Преобразование площади кухни к float\n",
    "if ',' in area_kit_not_num:\n",
    "    area_kit_not_num = area_kit_not_num.replace(',','.')\n",
    "try:\n",
    "    area_kit = float(area_kit_not_num)\n",
    "except:\n",
    "    area_kit = '-'"
   ]
  },
  {
   "cell_type": "code",
   "execution_count": 95,
   "metadata": {
    "collapsed": false
   },
   "outputs": [
    {
     "data": {
      "text/plain": [
       "17.0"
      ]
     },
     "execution_count": 95,
     "metadata": {},
     "output_type": "execute_result"
    }
   ],
   "source": [
    "area_kit"
   ]
  },
  {
   "cell_type": "code",
   "execution_count": 96,
   "metadata": {
    "collapsed": false
   },
   "outputs": [],
   "source": [
    "#функция, которая проделывает приведенные выше действия\n",
    "def Kitsp(flat_page):\n",
    "    table = flat_page.find('table', attrs = {'class':'object_descr_props'})\n",
    "    table = html_stripper(table)\n",
    "    \n",
    "    fragmentation = re.split('Площадь|:|м2', table)\n",
    "    \n",
    "    for i in range(len(fragmentation)):\n",
    "        if \"кухни\" in fragmentation[i]:\n",
    "            area_kit_not_num = fragmentation[i+1] #площадь кухни в не числовом формате\n",
    "    \n",
    "            if ',' in area_kit_not_num:\n",
    "                area_kit_not_num = area_kit_not_num.replace(',','.')\n",
    "                try:\n",
    "                    return float(area_kit_not_num)\n",
    "                except:\n",
    "                    return '-'\n",
    "            try:\n",
    "                return float(area_kit_not_num)\n",
    "            except:\n",
    "                return '-'"
   ]
  },
  {
   "cell_type": "code",
   "execution_count": 97,
   "metadata": {
    "collapsed": false
   },
   "outputs": [
    {
     "data": {
      "text/plain": [
       "17.0"
      ]
     },
     "execution_count": 97,
     "metadata": {},
     "output_type": "execute_result"
    }
   ],
   "source": [
    " Kitsp(flat_page)"
   ]
  },
  {
   "cell_type": "code",
   "execution_count": 98,
   "metadata": {
    "collapsed": true
   },
   "outputs": [],
   "source": [
    "#Cписок под хранение площади кухни\n",
    "flatStats['Kitsp'] = []\n",
    "flatStats['Kitsp'] += [Kitsp(flat_page)]"
   ]
  },
  {
   "cell_type": "markdown",
   "metadata": {
    "collapsed": true
   },
   "source": [
    "# Данные о продаваемых квартирах (для одного окуруга)"
   ]
  },
  {
   "cell_type": "markdown",
   "metadata": {},
   "source": [
    "## Функция как рабочий инструмент, который позволяет получать эти данные"
   ]
  },
  {
   "cell_type": "code",
   "execution_count": 99,
   "metadata": {
    "collapsed": false
   },
   "outputs": [],
   "source": [
    "#эта функция выполняет все приведенные выше действия для каждой из квартир, из каждого округа Москвы\n",
    "#N_pages -- число рассматриваемых страниц с квартирами\n",
    "def get_DATA_district(data,N_pages=30):\n",
    "    \n",
    "    #ЦАО\n",
    "    if data == 'CAO':\n",
    "        district = 'http://www.cian.ru/cat.php?deal_type=sale&district%5B0%5D=13&district%5B1%5D=14&district%5B2%5D=15&district%5B3%5D=16&district%5B4%5D=17&district%5B5%5D=18&district%5B6%5D=19&district%5B7%5D=20&district%5B8%5D=21&district%5B9%5D=22&engine_version=2&offer_type=flat&p={}&room1=1&room2=1&room3=1&room4=1&room5=1&room6=1'\n",
    "        #числовое обозначение для округа\n",
    "        district_encode = 0\n",
    "    \n",
    "    #САО\n",
    "    if data =='SAO':\n",
    "        district = 'http://www.cian.ru/cat.php?deal_type=sale&district%5B0%5D=23&district%5B10%5D=33&district%5B11%5D=34&district%5B12%5D=35&district%5B13%5D=36&district%5B14%5D=37&district%5B15%5D=38&district%5B1%5D=24&district%5B2%5D=25&district%5B3%5D=26&district%5B4%5D=27&district%5B5%5D=28&district%5B6%5D=29&district%5B7%5D=30&district%5B8%5D=31&district%5B9%5D=32&engine_version=2&offer_type=flat&p={}&room1=1&room2=1&room3=1&room4=1&room5=1&room6=1'\n",
    "        #числовое обозначение для округа\n",
    "        district_encode = 1\n",
    "    \n",
    "    #СВАО\n",
    "    if data == 'SVAO':\n",
    "        district = 'http://www.cian.ru/cat.php?deal_type=sale&district%5B0%5D=39&district%5B10%5D=49&district%5B11%5D=50&district%5B12%5D=51&district%5B13%5D=52&district%5B14%5D=53&district%5B15%5D=54&district%5B16%5D=55&district%5B1%5D=40&district%5B2%5D=41&district%5B3%5D=42&district%5B4%5D=43&district%5B5%5D=44&district%5B6%5D=45&district%5B7%5D=46&district%5B8%5D=47&district%5B9%5D=48&engine_version=2&offer_type=flat&p={}&room1=1&room2=1&room3=1&room4=1&room5=1&room6=1'\n",
    "        #числовое обозначение для округа\n",
    "        district_encode = 2\n",
    "    \n",
    "    #ВАО\n",
    "    if data == 'VAO':\n",
    "        district = 'http://www.cian.ru/cat.php?deal_type=sale&district%5B0%5D=56&district%5B10%5D=66&district%5B11%5D=67&district%5B12%5D=68&district%5B13%5D=69&district%5B14%5D=70&district%5B15%5D=71&district%5B1%5D=57&district%5B2%5D=58&district%5B3%5D=59&district%5B4%5D=60&district%5B5%5D=61&district%5B6%5D=62&district%5B7%5D=63&district%5B8%5D=64&district%5B9%5D=65&engine_version=2&offer_type=flat&p={}&room1=1&room2=1&room3=1&room4=1&room5=1&room6=1'\n",
    "        #числовое обозначение для округа\n",
    "        district_encode = 3\n",
    "    \n",
    "    #ЮВАО\n",
    "    if data == 'UVAO':\n",
    "        district = 'http://www.cian.ru/cat.php?deal_type=sale&district%5B0%5D=72&district%5B10%5D=82&district%5B11%5D=83&district%5B1%5D=73&district%5B2%5D=74&district%5B3%5D=75&district%5B4%5D=76&district%5B5%5D=77&district%5B6%5D=78&district%5B7%5D=79&district%5B8%5D=80&district%5B9%5D=81&engine_version=2&offer_type=flat&p={}&room1=1&room2=1&room3=1&room4=1&room5=1&room6=1'\n",
    "        #числовое обозначение для округа\n",
    "        district_encode = 4\n",
    "    \n",
    "    #ЮАО\n",
    "    if data == 'UAO':\n",
    "        district = 'http://www.cian.ru/cat.php?deal_type=sale&district%5B0%5D=84&district%5B10%5D=94&district%5B11%5D=95&district%5B12%5D=96&district%5B13%5D=97&district%5B14%5D=98&district%5B15%5D=99&district%5B1%5D=85&district%5B2%5D=86&district%5B3%5D=87&district%5B4%5D=88&district%5B5%5D=89&district%5B6%5D=90&district%5B7%5D=91&district%5B8%5D=92&district%5B9%5D=93&engine_version=2&offer_type=flat&p={}&room1=1&room2=1&room3=1&room4=1&room5=1&room6=1'\n",
    "        #числовое обозначение для округа\n",
    "        district_encode = 5\n",
    "        \n",
    "    #ЮЗАО\n",
    "    if data == 'UZAO':\n",
    "        district = 'http://www.cian.ru/cat.php?deal_type=sale&district%5B0%5D=100&district%5B10%5D=110&district%5B11%5D=111&district%5B1%5D=101&district%5B2%5D=102&district%5B3%5D=103&district%5B4%5D=104&district%5B5%5D=105&district%5B6%5D=106&district%5B7%5D=107&district%5B8%5D=108&district%5B9%5D=109&engine_version=2&offer_type=flat&p={}&room1=1&room2=1&room3=1&room4=1&room5=1&room6=1'\n",
    "        #числовое обозначение для округа\n",
    "        district_encode = 6\n",
    "    \n",
    "    #ЗАО\n",
    "    if data == 'ZAO':\n",
    "        district = 'http://www.cian.ru/cat.php?deal_type=sale&district%5B0%5D=112&district%5B10%5D=122&district%5B11%5D=123&district%5B12%5D=124&district%5B13%5D=348&district%5B14%5D=349&district%5B15%5D=350&district%5B1%5D=113&district%5B2%5D=114&district%5B3%5D=115&district%5B4%5D=116&district%5B5%5D=117&district%5B6%5D=118&district%5B7%5D=119&district%5B8%5D=120&district%5B9%5D=121&engine_version=2&offer_type=flat&p={}&room1=1&room2=1&room3=1&room4=1&room5=1&room6=1'\n",
    "        #числовое обозначение для округа\n",
    "        district_encode = 7\n",
    "   \n",
    "    #СЗАО\n",
    "    if data == 'SZAO':\n",
    "        district = 'http://www.cian.ru/cat.php?deal_type=sale&district%5B0%5D=125&district%5B1%5D=126&district%5B2%5D=127&district%5B3%5D=128&district%5B4%5D=129&district%5B5%5D=130&district%5B6%5D=131&district%5B7%5D=132&engine_version=2&offer_type=flat&p={}&room1=1&room2=1&room3=1&room4=1&room5=1&room6=1'\n",
    "        #числовое обозначение для округа\n",
    "        district_encode = 8\n",
    "    \n",
    "    #НАО\n",
    "    if data == 'NAO':\n",
    "        district = 'http://www.cian.ru/cat.php?deal_type=sale&district%5B0%5D=327&district%5B10%5D=337&district%5B1%5D=328&district%5B2%5D=329&district%5B3%5D=330&district%5B4%5D=331&district%5B5%5D=332&district%5B6%5D=333&district%5B7%5D=334&district%5B8%5D=335&district%5B9%5D=336&engine_version=2&offer_type=flat&p={}&room1=1&room2=1&room3=1&room4=1&room5=1&room6=1'\n",
    "        #числовое обозначение для округа\n",
    "        district_encode = 9\n",
    "    \n",
    "    #ТАО\n",
    "    if data == 'TAO':\n",
    "        district = 'http://www.cian.ru/cat.php?deal_type=sale&district%5B0%5D=338&district%5B1%5D=339&district%5B2%5D=340&district%5B3%5D=341&district%5B4%5D=342&district%5B5%5D=343&district%5B6%5D=344&district%5B7%5D=345&district%5B8%5D=346&district%5B9%5D=347&engine_version=2&offer_type=flat&p={}&room1=1&room2=1&room3=1&room4=1&room5=1&room6=1'\n",
    "        #числовое обозначение для округа\n",
    "        district_encode = 10\n",
    "        \n",
    "    #Ссылки на квартиры\n",
    "    links = []\n",
    "    \n",
    "    #Вытаскиваем ссылки на описание квартир\n",
    "    for page in range(1, N_pages): #количество квартир по каждому округу пропорционально параметру N_pages\n",
    "        page_url =  district.format(page)\n",
    "        \n",
    "        search_page = requests.get(page_url)\n",
    "        search_page = search_page.content\n",
    "        search_page = BeautifulSoup(search_page, 'lxml')\n",
    "\n",
    "        flat_urls = search_page.findAll('div', attrs = {'ng-class':\"{'serp-item_removed': offer.remove.state, 'serp-item_popup-opened': isPopupOpen}\"})\n",
    "        flat_urls = re.split('http://www.cian.ru/sale/flat/|/\" ng-class=\"', str(flat_urls))\n",
    "        \n",
    "        for link in flat_urls:\n",
    "            if link.isdigit():\n",
    "                links.append(link)\n",
    "            \n",
    "    flatStats['District']= []\n",
    "    flatStats['Price'] = []\n",
    "    flatStats['Rooms'] = []\n",
    "    flatStats['Totsp'] = []\n",
    "    flatStats['Kitsp'] = []\n",
    "    flatStats['Livesp'] = []\n",
    "    flatStats['Dist'] = [] \n",
    "    flatStats['Metrdist'] = [] \n",
    "    flatStats['Walk'] = []\n",
    "    flatStats['Floor'] = [] \n",
    "    flatStats['Nfloors'] = [] \n",
    "    flatStats['New'] = []\n",
    "    flatStats['Bal'] = []\n",
    "    flatStats['Tel'] = []\n",
    "    flatStats['Brick'] = []\n",
    "\n",
    "    for i in range(len(links)):\n",
    "        flat_url = 'http://www.cian.ru/sale/flat/' + str(links[i]) + '/'\n",
    "        flat_page = requests.get(flat_url)\n",
    "        flat_page = flat_page.content\n",
    "        flat_page = BeautifulSoup(flat_page, 'lxml')\n",
    "    \n",
    "        flatStats['District'] += [district_encode]\n",
    "        flatStats['Price'] += [getPrice(flat_page)]\n",
    "        flatStats['Rooms'] += [getRoom(flat_page)]\n",
    "        flatStats['Totsp'] += [Totsp(flat_page)]\n",
    "        flatStats['Kitsp'] += [Kitsp(flat_page)]\n",
    "        flatStats['Livesp'] += [Livesp(flat_page)]\n",
    "        flatStats['Dist'] += [Dist(flat_page)] \n",
    "        flatStats['Metrdist'] += [Metrdist(flat_page)] \n",
    "        flatStats['Walk'] += [Walk(flat_page)]\n",
    "        flatStats['Floor'] +=[getFloor(flat_page)] \n",
    "        flatStats['Nfloors'] +=[getNfloors(flat_page)] \n",
    "        flatStats['New'] += [is_New(flat_page)]\n",
    "        flatStats['Bal'] += [is_there_Bal(flat_page)]\n",
    "        flatStats['Tel'] += [is_there_Tel(flat_page)]\n",
    "        flatStats['Brick'] += [is_Brick(flat_page)]\n",
    "        \n",
    "    #Данные возвращаются в формате DataFrame\n",
    "    return pd.DataFrame(flatStats, columns=['District','Price','Rooms','Totsp','Livesp','Kitsp','Brick','Floor','Nfloors','Dist','Metrdist','Walk','Bal','Tel','New']) #в нумеровнии строк проблема"
   ]
  },
  {
   "cell_type": "markdown",
   "metadata": {},
   "source": [
    "В этой функции аргумент data может принимать следующие значения:"
   ]
  },
  {
   "cell_type": "markdown",
   "metadata": {
    "collapsed": false
   },
   "source": [
    "'CAO', 'SAO', 'SVAO', 'VAO', 'UVAO','UAO','UZAO','ZAO','SZAO','NAO','TAO' -- сокращённое названия округов на латинице"
   ]
  },
  {
   "cell_type": "markdown",
   "metadata": {},
   "source": [
    "# Данные о продаваемых квартирах со всех округов Москвы \n"
   ]
  },
  {
   "cell_type": "code",
   "execution_count": 100,
   "metadata": {
    "collapsed": false
   },
   "outputs": [],
   "source": [
    "CAO = get_DATA_district('CAO')\n",
    "SAO = get_DATA_district('SAO')\n",
    "SVAO = get_DATA_district('SVAO')\n",
    "VAO = get_DATA_district('VAO')\n",
    "UVAO = get_DATA_district('UVAO')\n",
    "UAO = get_DATA_district('UAO')\n",
    "UZAO = get_DATA_district('UZAO')\n",
    "ZAO = get_DATA_district('ZAO')\n",
    "SZAO = get_DATA_district('SZAO')\n",
    "NAO = get_DATA_district('NAO')\n",
    "TAO = get_DATA_district('TAO') "
   ]
  },
  {
   "cell_type": "code",
   "execution_count": 101,
   "metadata": {
    "collapsed": false
   },
   "outputs": [],
   "source": [
    "#Объединение данных по каждому округу\n",
    "INFO_about_selling_flats = pd.concat([CAO, SAO, SVAO, VAO, UVAO, UAO, UZAO, ZAO, SZAO, NAO, TAO],ignore_index=True)\n",
    "\n",
    "#Порядковые номера квартиры\n",
    "N = pd.DataFrame(np.arange(1, len(INFO_about_selling_flats)+1), columns =['N'])\n",
    "#Добавим их в данные о квартирах\n",
    "INFO_about_selling_flats = pd.concat([N,INFO_about_selling_flats],axis = 1)"
   ]
  },
  {
   "cell_type": "markdown",
   "metadata": {},
   "source": [
    "# Наши данные о квартирах Москвы"
   ]
  },
  {
   "cell_type": "code",
   "execution_count": 102,
   "metadata": {
    "collapsed": false
   },
   "outputs": [
    {
     "data": {
      "text/html": [
       "<div>\n",
       "<table border=\"1\" class=\"dataframe\">\n",
       "  <thead>\n",
       "    <tr style=\"text-align: right;\">\n",
       "      <th></th>\n",
       "      <th>N</th>\n",
       "      <th>District</th>\n",
       "      <th>Price</th>\n",
       "      <th>Rooms</th>\n",
       "      <th>Totsp</th>\n",
       "      <th>Livesp</th>\n",
       "      <th>Kitsp</th>\n",
       "      <th>Brick</th>\n",
       "      <th>Floor</th>\n",
       "      <th>Nfloors</th>\n",
       "      <th>Dist</th>\n",
       "      <th>Metrdist</th>\n",
       "      <th>Walk</th>\n",
       "      <th>Bal</th>\n",
       "      <th>Tel</th>\n",
       "      <th>New</th>\n",
       "    </tr>\n",
       "  </thead>\n",
       "  <tbody>\n",
       "    <tr>\n",
       "      <th>0</th>\n",
       "      <td>1</td>\n",
       "      <td>0</td>\n",
       "      <td>35584000</td>\n",
       "      <td>2</td>\n",
       "      <td>70.0</td>\n",
       "      <td>43.9</td>\n",
       "      <td>8</td>\n",
       "      <td>1</td>\n",
       "      <td>4</td>\n",
       "      <td>6</td>\n",
       "      <td>1.09</td>\n",
       "      <td>5</td>\n",
       "      <td>1</td>\n",
       "      <td>0</td>\n",
       "      <td>-</td>\n",
       "      <td>0</td>\n",
       "    </tr>\n",
       "    <tr>\n",
       "      <th>1</th>\n",
       "      <td>2</td>\n",
       "      <td>0</td>\n",
       "      <td>49000000</td>\n",
       "      <td>3</td>\n",
       "      <td>70.0</td>\n",
       "      <td>40.5</td>\n",
       "      <td>10</td>\n",
       "      <td>1</td>\n",
       "      <td>8</td>\n",
       "      <td>9</td>\n",
       "      <td>1.32</td>\n",
       "      <td>7</td>\n",
       "      <td>1</td>\n",
       "      <td>1</td>\n",
       "      <td>-</td>\n",
       "      <td>1</td>\n",
       "    </tr>\n",
       "    <tr>\n",
       "      <th>2</th>\n",
       "      <td>3</td>\n",
       "      <td>0</td>\n",
       "      <td>241316340</td>\n",
       "      <td>5</td>\n",
       "      <td>200.6</td>\n",
       "      <td>-</td>\n",
       "      <td>-</td>\n",
       "      <td>1</td>\n",
       "      <td>3</td>\n",
       "      <td>5</td>\n",
       "      <td>4.57</td>\n",
       "      <td>6</td>\n",
       "      <td>1</td>\n",
       "      <td>0</td>\n",
       "      <td>1</td>\n",
       "      <td>1</td>\n",
       "    </tr>\n",
       "    <tr>\n",
       "      <th>3</th>\n",
       "      <td>4</td>\n",
       "      <td>0</td>\n",
       "      <td>4585315</td>\n",
       "      <td>1</td>\n",
       "      <td>17.3</td>\n",
       "      <td>17.3</td>\n",
       "      <td>-</td>\n",
       "      <td>0</td>\n",
       "      <td>2</td>\n",
       "      <td>-</td>\n",
       "      <td>4.74</td>\n",
       "      <td>6</td>\n",
       "      <td>1</td>\n",
       "      <td>0</td>\n",
       "      <td>-</td>\n",
       "      <td>0</td>\n",
       "    </tr>\n",
       "    <tr>\n",
       "      <th>4</th>\n",
       "      <td>5</td>\n",
       "      <td>0</td>\n",
       "      <td>4814581</td>\n",
       "      <td>1</td>\n",
       "      <td>17.3</td>\n",
       "      <td>17.3</td>\n",
       "      <td>-</td>\n",
       "      <td>1</td>\n",
       "      <td>2</td>\n",
       "      <td>6</td>\n",
       "      <td>4.77</td>\n",
       "      <td>5</td>\n",
       "      <td>1</td>\n",
       "      <td>0</td>\n",
       "      <td>0</td>\n",
       "      <td>1</td>\n",
       "    </tr>\n",
       "    <tr>\n",
       "      <th>5</th>\n",
       "      <td>6</td>\n",
       "      <td>0</td>\n",
       "      <td>5496232</td>\n",
       "      <td>1</td>\n",
       "      <td>23.7</td>\n",
       "      <td>23.7</td>\n",
       "      <td>-</td>\n",
       "      <td>1</td>\n",
       "      <td>2</td>\n",
       "      <td>6</td>\n",
       "      <td>4.77</td>\n",
       "      <td>5</td>\n",
       "      <td>1</td>\n",
       "      <td>0</td>\n",
       "      <td>0</td>\n",
       "      <td>1</td>\n",
       "    </tr>\n",
       "    <tr>\n",
       "      <th>6</th>\n",
       "      <td>7</td>\n",
       "      <td>0</td>\n",
       "      <td>5500000</td>\n",
       "      <td>1</td>\n",
       "      <td>32.0</td>\n",
       "      <td>20</td>\n",
       "      <td>7</td>\n",
       "      <td>0</td>\n",
       "      <td>1</td>\n",
       "      <td>9</td>\n",
       "      <td>4.88</td>\n",
       "      <td>4</td>\n",
       "      <td>1</td>\n",
       "      <td>0</td>\n",
       "      <td>1</td>\n",
       "      <td>1</td>\n",
       "    </tr>\n",
       "    <tr>\n",
       "      <th>7</th>\n",
       "      <td>8</td>\n",
       "      <td>0</td>\n",
       "      <td>5550000</td>\n",
       "      <td>1</td>\n",
       "      <td>37.4</td>\n",
       "      <td>20</td>\n",
       "      <td>9.6</td>\n",
       "      <td>0</td>\n",
       "      <td>1</td>\n",
       "      <td>1</td>\n",
       "      <td>6.26</td>\n",
       "      <td>10</td>\n",
       "      <td>1</td>\n",
       "      <td>1</td>\n",
       "      <td>-</td>\n",
       "      <td>1</td>\n",
       "    </tr>\n",
       "    <tr>\n",
       "      <th>8</th>\n",
       "      <td>9</td>\n",
       "      <td>0</td>\n",
       "      <td>5999000</td>\n",
       "      <td>1</td>\n",
       "      <td>30.0</td>\n",
       "      <td>16</td>\n",
       "      <td>6</td>\n",
       "      <td>1</td>\n",
       "      <td>3</td>\n",
       "      <td>5</td>\n",
       "      <td>9.20</td>\n",
       "      <td>-</td>\n",
       "      <td>0</td>\n",
       "      <td>1</td>\n",
       "      <td>1</td>\n",
       "      <td>1</td>\n",
       "    </tr>\n",
       "    <tr>\n",
       "      <th>9</th>\n",
       "      <td>10</td>\n",
       "      <td>0</td>\n",
       "      <td>6000000</td>\n",
       "      <td>1</td>\n",
       "      <td>32.0</td>\n",
       "      <td>20</td>\n",
       "      <td>6</td>\n",
       "      <td>1</td>\n",
       "      <td>5</td>\n",
       "      <td>5</td>\n",
       "      <td>7.70</td>\n",
       "      <td>10</td>\n",
       "      <td>1</td>\n",
       "      <td>0</td>\n",
       "      <td>-</td>\n",
       "      <td>1</td>\n",
       "    </tr>\n",
       "  </tbody>\n",
       "</table>\n",
       "</div>"
      ],
      "text/plain": [
       "    N  District      Price Rooms  Totsp Livesp Kitsp  Brick  Floor Nfloors  \\\n",
       "0   1         0   35584000     2   70.0   43.9     8      1      4       6   \n",
       "1   2         0   49000000     3   70.0   40.5    10      1      8       9   \n",
       "2   3         0  241316340     5  200.6      -     -      1      3       5   \n",
       "3   4         0    4585315     1   17.3   17.3     -      0      2       -   \n",
       "4   5         0    4814581     1   17.3   17.3     -      1      2       6   \n",
       "5   6         0    5496232     1   23.7   23.7     -      1      2       6   \n",
       "6   7         0    5500000     1   32.0     20     7      0      1       9   \n",
       "7   8         0    5550000     1   37.4     20   9.6      0      1       1   \n",
       "8   9         0    5999000     1   30.0     16     6      1      3       5   \n",
       "9  10         0    6000000     1   32.0     20     6      1      5       5   \n",
       "\n",
       "   Dist Metrdist  Walk  Bal Tel  New  \n",
       "0  1.09        5     1    0   -    0  \n",
       "1  1.32        7     1    1   -    1  \n",
       "2  4.57        6     1    0   1    1  \n",
       "3  4.74        6     1    0   -    0  \n",
       "4  4.77        5     1    0   0    1  \n",
       "5  4.77        5     1    0   0    1  \n",
       "6  4.88        4     1    0   1    1  \n",
       "7  6.26       10     1    1   -    1  \n",
       "8  9.20        -     0    1   1    1  \n",
       "9  7.70       10     1    0   -    1  "
      ]
     },
     "execution_count": 102,
     "metadata": {},
     "output_type": "execute_result"
    }
   ],
   "source": [
    "INFO_about_selling_flats.head(10)"
   ]
  },
  {
   "cell_type": "code",
   "execution_count": 103,
   "metadata": {
    "collapsed": false
   },
   "outputs": [
    {
     "data": {
      "text/html": [
       "<div>\n",
       "<table border=\"1\" class=\"dataframe\">\n",
       "  <thead>\n",
       "    <tr style=\"text-align: right;\">\n",
       "      <th></th>\n",
       "      <th>N</th>\n",
       "      <th>District</th>\n",
       "      <th>Price</th>\n",
       "      <th>Rooms</th>\n",
       "      <th>Totsp</th>\n",
       "      <th>Livesp</th>\n",
       "      <th>Kitsp</th>\n",
       "      <th>Brick</th>\n",
       "      <th>Floor</th>\n",
       "      <th>Nfloors</th>\n",
       "      <th>Dist</th>\n",
       "      <th>Metrdist</th>\n",
       "      <th>Walk</th>\n",
       "      <th>Bal</th>\n",
       "      <th>Tel</th>\n",
       "      <th>New</th>\n",
       "    </tr>\n",
       "  </thead>\n",
       "  <tbody>\n",
       "    <tr>\n",
       "      <th>8922</th>\n",
       "      <td>8923</td>\n",
       "      <td>10</td>\n",
       "      <td>3490000</td>\n",
       "      <td>2</td>\n",
       "      <td>61.7</td>\n",
       "      <td>60.2</td>\n",
       "      <td>-</td>\n",
       "      <td>1</td>\n",
       "      <td>3</td>\n",
       "      <td>3</td>\n",
       "      <td>66.66</td>\n",
       "      <td>30</td>\n",
       "      <td>0</td>\n",
       "      <td>1</td>\n",
       "      <td>-</td>\n",
       "      <td>0</td>\n",
       "    </tr>\n",
       "    <tr>\n",
       "      <th>8923</th>\n",
       "      <td>8924</td>\n",
       "      <td>10</td>\n",
       "      <td>3500000</td>\n",
       "      <td>1</td>\n",
       "      <td>42.3</td>\n",
       "      <td>16</td>\n",
       "      <td>10</td>\n",
       "      <td>1</td>\n",
       "      <td>1</td>\n",
       "      <td>4</td>\n",
       "      <td>40.18</td>\n",
       "      <td>20</td>\n",
       "      <td>0</td>\n",
       "      <td>1</td>\n",
       "      <td>0</td>\n",
       "      <td>1</td>\n",
       "    </tr>\n",
       "    <tr>\n",
       "      <th>8924</th>\n",
       "      <td>8925</td>\n",
       "      <td>10</td>\n",
       "      <td>3500000</td>\n",
       "      <td>2</td>\n",
       "      <td>55.0</td>\n",
       "      <td>36</td>\n",
       "      <td>11</td>\n",
       "      <td>1</td>\n",
       "      <td>2</td>\n",
       "      <td>5</td>\n",
       "      <td>36.42</td>\n",
       "      <td>-</td>\n",
       "      <td>0</td>\n",
       "      <td>1</td>\n",
       "      <td>-</td>\n",
       "      <td>0</td>\n",
       "    </tr>\n",
       "    <tr>\n",
       "      <th>8925</th>\n",
       "      <td>8926</td>\n",
       "      <td>10</td>\n",
       "      <td>3500000</td>\n",
       "      <td>2</td>\n",
       "      <td>44.1</td>\n",
       "      <td>37</td>\n",
       "      <td>6.5</td>\n",
       "      <td>0</td>\n",
       "      <td>5</td>\n",
       "      <td>5</td>\n",
       "      <td>49.15</td>\n",
       "      <td>-</td>\n",
       "      <td>0</td>\n",
       "      <td>1</td>\n",
       "      <td>1</td>\n",
       "      <td>1</td>\n",
       "    </tr>\n",
       "    <tr>\n",
       "      <th>8926</th>\n",
       "      <td>8927</td>\n",
       "      <td>10</td>\n",
       "      <td>3600000</td>\n",
       "      <td>2</td>\n",
       "      <td>54.0</td>\n",
       "      <td>28</td>\n",
       "      <td>8</td>\n",
       "      <td>0</td>\n",
       "      <td>5</td>\n",
       "      <td>5</td>\n",
       "      <td>60.72</td>\n",
       "      <td>-</td>\n",
       "      <td>0</td>\n",
       "      <td>1</td>\n",
       "      <td>0</td>\n",
       "      <td>1</td>\n",
       "    </tr>\n",
       "    <tr>\n",
       "      <th>8927</th>\n",
       "      <td>8928</td>\n",
       "      <td>10</td>\n",
       "      <td>3600000</td>\n",
       "      <td>1</td>\n",
       "      <td>43.0</td>\n",
       "      <td>16</td>\n",
       "      <td>12</td>\n",
       "      <td>1</td>\n",
       "      <td>2</td>\n",
       "      <td>4</td>\n",
       "      <td>40.37</td>\n",
       "      <td>-</td>\n",
       "      <td>0</td>\n",
       "      <td>1</td>\n",
       "      <td>0</td>\n",
       "      <td>1</td>\n",
       "    </tr>\n",
       "    <tr>\n",
       "      <th>8928</th>\n",
       "      <td>8929</td>\n",
       "      <td>10</td>\n",
       "      <td>3600000</td>\n",
       "      <td>1</td>\n",
       "      <td>42.0</td>\n",
       "      <td>20</td>\n",
       "      <td>10</td>\n",
       "      <td>1</td>\n",
       "      <td>7</td>\n",
       "      <td>16</td>\n",
       "      <td>32.67</td>\n",
       "      <td>-</td>\n",
       "      <td>0</td>\n",
       "      <td>1</td>\n",
       "      <td>-</td>\n",
       "      <td>0</td>\n",
       "    </tr>\n",
       "    <tr>\n",
       "      <th>8929</th>\n",
       "      <td>8930</td>\n",
       "      <td>10</td>\n",
       "      <td>3600000</td>\n",
       "      <td>1</td>\n",
       "      <td>42.3</td>\n",
       "      <td>16</td>\n",
       "      <td>10</td>\n",
       "      <td>1</td>\n",
       "      <td>4</td>\n",
       "      <td>4</td>\n",
       "      <td>40.24</td>\n",
       "      <td>30</td>\n",
       "      <td>0</td>\n",
       "      <td>1</td>\n",
       "      <td>-</td>\n",
       "      <td>1</td>\n",
       "    </tr>\n",
       "    <tr>\n",
       "      <th>8930</th>\n",
       "      <td>8931</td>\n",
       "      <td>10</td>\n",
       "      <td>3600000</td>\n",
       "      <td>3</td>\n",
       "      <td>105.0</td>\n",
       "      <td>55</td>\n",
       "      <td>18</td>\n",
       "      <td>1</td>\n",
       "      <td>1</td>\n",
       "      <td>6</td>\n",
       "      <td>36.40</td>\n",
       "      <td>-</td>\n",
       "      <td>0</td>\n",
       "      <td>1</td>\n",
       "      <td>0</td>\n",
       "      <td>1</td>\n",
       "    </tr>\n",
       "    <tr>\n",
       "      <th>8931</th>\n",
       "      <td>8932</td>\n",
       "      <td>10</td>\n",
       "      <td>3650000</td>\n",
       "      <td>1</td>\n",
       "      <td>36.0</td>\n",
       "      <td>20</td>\n",
       "      <td>10</td>\n",
       "      <td>0</td>\n",
       "      <td>2</td>\n",
       "      <td>12</td>\n",
       "      <td>33.99</td>\n",
       "      <td>-</td>\n",
       "      <td>0</td>\n",
       "      <td>0</td>\n",
       "      <td>0</td>\n",
       "      <td>1</td>\n",
       "    </tr>\n",
       "  </tbody>\n",
       "</table>\n",
       "</div>"
      ],
      "text/plain": [
       "         N  District    Price Rooms  Totsp Livesp Kitsp  Brick  Floor Nfloors  \\\n",
       "8922  8923        10  3490000     2   61.7   60.2     -      1      3       3   \n",
       "8923  8924        10  3500000     1   42.3     16    10      1      1       4   \n",
       "8924  8925        10  3500000     2   55.0     36    11      1      2       5   \n",
       "8925  8926        10  3500000     2   44.1     37   6.5      0      5       5   \n",
       "8926  8927        10  3600000     2   54.0     28     8      0      5       5   \n",
       "8927  8928        10  3600000     1   43.0     16    12      1      2       4   \n",
       "8928  8929        10  3600000     1   42.0     20    10      1      7      16   \n",
       "8929  8930        10  3600000     1   42.3     16    10      1      4       4   \n",
       "8930  8931        10  3600000     3  105.0     55    18      1      1       6   \n",
       "8931  8932        10  3650000     1   36.0     20    10      0      2      12   \n",
       "\n",
       "       Dist Metrdist  Walk  Bal Tel  New  \n",
       "8922  66.66       30     0    1   -    0  \n",
       "8923  40.18       20     0    1   0    1  \n",
       "8924  36.42        -     0    1   -    0  \n",
       "8925  49.15        -     0    1   1    1  \n",
       "8926  60.72        -     0    1   0    1  \n",
       "8927  40.37        -     0    1   0    1  \n",
       "8928  32.67        -     0    1   -    0  \n",
       "8929  40.24       30     0    1   -    1  \n",
       "8930  36.40        -     0    1   0    1  \n",
       "8931  33.99        -     0    0   0    1  "
      ]
     },
     "execution_count": 103,
     "metadata": {},
     "output_type": "execute_result"
    }
   ],
   "source": [
    "INFO_about_selling_flats.tail(10)"
   ]
  },
  {
   "cell_type": "code",
   "execution_count": 104,
   "metadata": {
    "collapsed": false
   },
   "outputs": [
    {
     "data": {
      "text/plain": [
       "0"
      ]
     },
     "execution_count": 104,
     "metadata": {},
     "output_type": "execute_result"
    }
   ],
   "source": [
    "INFO_about_selling_flats[\"Totsp\"].isnull().sum() #для всех квартир есть информация об общей площади"
   ]
  },
  {
   "cell_type": "markdown",
   "metadata": {
    "collapsed": true
   },
   "source": [
    "# Cохраняем данные в формате сsv"
   ]
  },
  {
   "cell_type": "code",
   "execution_count": 105,
   "metadata": {
    "collapsed": false
   },
   "outputs": [],
   "source": [
    "INFO_about_selling_flats.to_csv(\"parsing.csv\", index = False) #здесь Вы должны указать свой путь, куда Вы хотите сохранить файл "
   ]
  }
 ],
 "metadata": {
  "anaconda-cloud": {},
  "kernelspec": {
   "display_name": "Python [conda root]",
   "language": "python",
   "name": "conda-root-py"
  },
  "language_info": {
   "codemirror_mode": {
    "name": "ipython",
    "version": 3
   },
   "file_extension": ".py",
   "mimetype": "text/x-python",
   "name": "python",
   "nbconvert_exporter": "python",
   "pygments_lexer": "ipython3",
   "version": "3.5.2"
  }
 },
 "nbformat": 4,
 "nbformat_minor": 0
}
